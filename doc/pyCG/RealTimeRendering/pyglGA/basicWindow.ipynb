{
 "metadata": {
  "language_info": {
   "codemirror_mode": {
    "name": "ipython",
    "version": 3
   },
   "file_extension": ".py",
   "mimetype": "text/x-python",
   "name": "python",
   "nbconvert_exporter": "python",
   "pygments_lexer": "ipython3",
   "version": "3.7.7-final"
  },
  "orig_nbformat": 2,
  "kernelspec": {
   "name": "python3",
   "display_name": "Python 3.7.7 64-bit ('glGA37': conda)",
   "metadata": {
    "interpreter": {
     "hash": "38e56ec89d613ed1db8665747e1247bdd777b72942207e01357cfd83e328755a"
    }
   }
  }
 },
 "nbformat": 4,
 "nbformat_minor": 2,
 "cells": [
  {
   "source": [
    "# This is a basicWindow shader-based OpenGL example\n",
    "## This notebook has been updated by Prof. George Papagiannakis as an introduction to the glGA SDK v2020.1\n",
    "### based on the supervised final year BSc project of G. Evangelou, University of Crete\n",
    "---\n"
   ],
   "cell_type": "markdown",
   "metadata": {}
  },
  {
   "source": [
    "---"
   ],
   "cell_type": "markdown",
   "metadata": {}
  },
  {
   "source": [
    "Let's import first the bare minimum python modules.\n",
    "This is:\n",
    "* pyOpenGL\n",
    "    - `pip install pyOpenGL`\n",
    "    - `pip install pyopenGL-accelerate`\n",
    "* SDL2\n",
    "    - `pip install pysdl2`\n",
    "* imgui\n",
    "    - `pip install imgui[full] `"
   ],
   "cell_type": "markdown",
   "metadata": {}
  },
  {
   "source": [
    "The following functions `init()` and `main()` are the very minimum starting points for *Shader-Based Computer Graphics*  programming using the OpenGL API under **Python**. \n",
    "\n",
    "As Opengl is container/GUI agnostic, we need a toolkit to generate a basic window, that is `SDL2`, to act as a container that receives the OpenGL context. Finally we need a very basic immediate-mode GUI toolkit and we illustrate the basic setup and usage of `ImGUI`.\n",
    "\n",
    "Output of the BasicWindow example: ![basic Window image](./images/basicWindow.png \"basicWindow image\")\n",
    "\n",
    "---"
   ],
   "cell_type": "markdown",
   "metadata": {}
  },
  {
   "source": [
    "> The *default OpenGL context* generated gets the default `2D` **orthographic/orthogonal camera projection** which is provided by the following 2D matrix transformation on the original `homogeneous` vertices so that\n",
    "\n",
    " >${P}_x$ is the projection of $x$, ${P}_y$ is the projection of $y$, ${P}_z$ is $0$, ${P}_w$ is 1,  \n",
    " >according to the formula: $${P_P}= M {P}$$\n",
    "> $$\n",
    "\\begin{bmatrix} \n",
    "\\mathbf{P_X} \\\\\n",
    "\\mathbf{P_Y} \\\\\n",
    "\\mathbf{0} \\\\\n",
    "\\mathbf{1}\n",
    "\\end{bmatrix} =\n",
    "\\begin{bmatrix}\n",
    "1 & 0 & 0 & 0 \\\\\n",
    "0 & 1 & 0 & 0 \\\\\n",
    "0 & 0 & 0 & 0 \\\\\n",
    "0 & 0 & 0 & 1 \\\\\n",
    "\\end{bmatrix} \\begin{bmatrix}\n",
    "\\mathbf{P}_x \\\\\n",
    "\\mathbf{P}_y \\\\\n",
    "\\mathbf{0} \\\\\n",
    "\\mathbf{1}\n",
    "\\end{bmatrix} \n",
    "\n",
    "\n",
    "> *However, in this example we are not transforming any coordinates. Why?*"
   ],
   "cell_type": "markdown",
   "metadata": {}
  },
  {
   "source": [],
   "cell_type": "markdown",
   "metadata": {}
  },
  {
   "cell_type": "code",
   "execution_count": 1,
   "metadata": {},
   "outputs": [
    {
     "output_type": "stream",
     "name": "stdout",
     "text": [
      "hello \n CG world\n"
     ]
    }
   ],
   "source": [
    "print(\"hello \\n CG world\")"
   ]
  },
  {
   "cell_type": "code",
   "execution_count": 2,
   "metadata": {},
   "outputs": [],
   "source": [
    "import ctypes\n",
    "import sys\n",
    "import numpy\n",
    "from sdl2 import *\n",
    "import sdl2.ext\n",
    "import imgui as ImGui\n",
    "from imgui.integrations.sdl2 import SDL2Renderer\n",
    "from OpenGL.GL import *\n",
    "from OpenGL.GL import shaders"
   ]
  },
  {
   "cell_type": "code",
   "execution_count": 3,
   "metadata": {},
   "outputs": [],
   "source": [
    " def init():\n",
    "    \"\"\" \n",
    "    Initialises an SDL2 window with an OpenGL state context\n",
    "\n",
    "    Parameters:\n",
    "    None\n",
    "\n",
    "    Returns:\n",
    "        gWindow: the SDL2 window\n",
    "        gContext: the OpenGL context of the gWindow\n",
    "        gVersionLabel: the OpeGL Version and context info\n",
    "    \"\"\"\n",
    "\n",
    "    if SDL_Init(SDL_INIT_VIDEO | SDL_INIT_TIMER) != 0:\n",
    "        print(\"SDL could not initialize! SDL Error: \", SDL_GetError())\n",
    "        exit(1)\n",
    "\n",
    "    print(\"Yay! Initialized SDL successfully!\")\n",
    "    SDL_GL_SetAttribute(SDL_GL_CONTEXT_FLAGS, SDL_GL_CONTEXT_FORWARD_COMPATIBLE_FLAG)\n",
    "    SDL_GL_SetAttribute(SDL_GL_CONTEXT_PROFILE_MASK, SDL_GL_CONTEXT_PROFILE_CORE)\n",
    "    SDL_GL_SetAttribute(SDL_GL_DOUBLEBUFFER, 1)\n",
    "    SDL_GL_SetAttribute(SDL_GL_DEPTH_SIZE, 24)\n",
    "    SDL_GL_SetAttribute(SDL_GL_STENCIL_SIZE, 8)\n",
    "    SDL_GL_SetAttribute(SDL_GL_ACCELERATED_VISUAL, 1)\n",
    "    SDL_GL_SetAttribute(SDL_GL_MULTISAMPLEBUFFERS, 1)\n",
    "    SDL_GL_SetAttribute(SDL_GL_MULTISAMPLESAMPLES, 16)\n",
    "    SDL_GL_SetAttribute(SDL_GL_CONTEXT_MAJOR_VERSION, 4) # OpenGL 4.1 version\n",
    "    SDL_GL_SetAttribute(SDL_GL_CONTEXT_MINOR_VERSION, 1)\n",
    "    \n",
    "    SDL_SetHint(SDL_HINT_MAC_CTRL_CLICK_EMULATE_RIGHT_CLICK, b\"1\")\n",
    "    SDL_SetHint(SDL_HINT_VIDEO_HIGHDPI_DISABLED, b\"1\")\n",
    "\n",
    "    # CREATE WINDOW\n",
    "    window_title = 'BasicWindow'\n",
    "    windowWidth = 1024\n",
    "    windowHeight = 768\n",
    "    gWindow = SDL_CreateWindow(window_title.encode(), SDL_WINDOWPOS_CENTERED, SDL_WINDOWPOS_CENTERED,windowWidth, windowHeight, SDL_WINDOW_OPENGL)\n",
    "\n",
    "    if gWindow is None:\n",
    "        print(\"Window could not be created! SDL Error: \", SDL_GetError())\n",
    "        exit(1)\n",
    "\n",
    "    print(\"Yay! Created window successfully!\")\n",
    "    gContext = SDL_GL_CreateContext(gWindow)\n",
    "    print(\"Yay! Created OpenGL context successfully!\\n\\n\")\n",
    "\n",
    "    if gContext is None:\n",
    "        print(\"OpenGL context could not be created! SDL Error: \", SDL_GetError())\n",
    "        exit(1)\n",
    "\n",
    "    SDL_GL_MakeCurrent(gWindow, gContext)\n",
    "\n",
    "    if SDL_GL_SetSwapInterval(1) < 0:\n",
    "        print(\"Warning: Unable to set VSync! SDL Error: \" + SDL_GetError())\n",
    "        exit(1)\n",
    "\n",
    "    gVersionLabel = 'OpenGL', glGetString(GL_VERSION).decode() + ', GLSL', glGetString(GL_SHADING_LANGUAGE_VERSION).decode() + ', Renderer', glGetString(GL_RENDERER).decode()\n",
    "    print(gVersionLabel)\n",
    "\n",
    "    return gWindow, gContext, str(gVersionLabel)"
   ]
  },
  {
   "cell_type": "code",
   "execution_count": 4,
   "metadata": {},
   "outputs": [],
   "source": [
    "def main():\n",
    "    \"\"\"\n",
    "    The main method that after calling init() it starts the main rendering loop.\n",
    "    This loop re-draws an ImGUI sample window in immediate mode and swaps the SDL2 double buffer windows\n",
    "    \"\"\"\n",
    "\n",
    "    gWindow, gContext, gVersionLabel = init()\n",
    "    #ImGui.create_default_context(purpose=Purpose.SERVER_AUTH, cafile=None, capath=None, cadata=None)\n",
    "    imguiContext = ImGui.create_context()\n",
    "    \n",
    "    if imguiContext is None:\n",
    "        print(\"Window could not be created! ImGUI Error: \")\n",
    "        exit(1)\n",
    "    else:\n",
    "        print(\"Yay! ImGUI context created successfully\")\n",
    "\n",
    "    renderer = SDL2Renderer(gWindow)\n",
    "\n",
    "    running = True\n",
    "    # MAIN LOOP\n",
    "    while running:\n",
    "        events = sdl2.ext.get_events()\n",
    "        for event in events:\n",
    "            if event.type == SDL_KEYDOWN:\n",
    "                if event.key.keysym.sym == SDLK_ESCAPE:\n",
    "                    running = False\n",
    "            if event.type == SDL_QUIT:\n",
    "                running = False\n",
    "            renderer.process_event(event)\n",
    "        renderer.process_inputs()\n",
    "\n",
    "        glClearColor(0.0, 0.0, 0.0, 1)\n",
    "        glClear(GL_COLOR_BUFFER_BIT)\n",
    "\n",
    "        ImGui.set_next_window_size(300.0, 150.0)\n",
    "\n",
    "        # start new frame context\n",
    "        ImGui.new_frame()\n",
    "        \n",
    "        #a sample imGUI window with all widgets\n",
    "        ImGui.show_test_window()\n",
    "        \n",
    "        # open new window context\n",
    "        ImGui.begin(\"Our first ImGUI window!\", True)\n",
    "        # draw text label inside of current window\n",
    "        ImGui.text(\"PyImgui + PySDL2 integration successful!\")\n",
    "        ImGui.text(gVersionLabel)\n",
    "        # close current window context\n",
    "        ImGui.end()\n",
    "        # pass all drawing commands to the rendering pipeline\n",
    "        # and close frame context\n",
    "        ImGui.render()\n",
    "        renderer.render(ImGui.get_draw_data())\n",
    "\n",
    "        SDL_GL_SwapWindow(gWindow)\n",
    "    # CLOSING\n",
    "    renderer.shutdown()\n",
    "    SDL_GL_DeleteContext(gContext)\n",
    "    SDL_DestroyWindow(gWindow)\n",
    "    SDL_Quit()"
   ]
  },
  {
   "source": [
    "---\n",
    "\n",
    "and now we are ready to execute the example by calling `main()` which first calls `init()`. \n",
    "\n",
    "Don't forget to also run `python -m unittest` in the same folder to run all the * unit Tests* for the **basicWindow** example.\n",
    "\n",
    "---"
   ],
   "cell_type": "markdown",
   "metadata": {}
  },
  {
   "cell_type": "code",
   "execution_count": 5,
   "metadata": {},
   "outputs": [
    {
     "output_type": "stream",
     "name": "stdout",
     "text": [
      "Yay! Initialized SDL successfully!\nYay! Created window successfully!\nYay! Created OpenGL context successfully!\n\n\n('OpenGL', '4.1 ATI-3.10.18, GLSL', '4.10, Renderer', 'AMD Radeon Pro 5500M OpenGL Engine')\nYay! ImGUI context created successfully\n"
     ]
    }
   ],
   "source": [
    "if __name__ == \"__main__\":\n",
    "    main()"
   ]
  },
  {
   "source": [
    "*unit testing*\n",
    "* To run unit tests, please execute `python -m unittest` at the same directory as this file* "
   ],
   "cell_type": "markdown",
   "metadata": {}
  },
  {
   "cell_type": "code",
   "execution_count": null,
   "metadata": {},
   "outputs": [],
   "source": []
  }
 ]
}