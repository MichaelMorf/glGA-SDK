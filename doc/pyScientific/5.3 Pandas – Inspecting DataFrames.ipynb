{
 "cells": [
  {
   "cell_type": "markdown",
   "metadata": {},
   "source": [
    "# Inspecting Pandas DataFrames"
   ]
  },
  {
   "cell_type": "markdown",
   "metadata": {},
   "source": [
    "This notebook is a part of [Pandas tutorial](http://gregreda.com/2013/10/26/intro-to-pandas-data-structures/) by [Greg Reda](http://www.gregreda.com).\n",
    "\n",
    "It has been updated by Prof. [George Papagiannakis](http://george.papagiannakis.org) as an introduction to the [glGA](http://george.papagiannakis.org/?page_id=513) `SDK v2020.1`\n",
    "\n",
    "---"
   ]
  },
  {
   "cell_type": "code",
   "execution_count": 18,
   "metadata": {},
   "outputs": [],
   "source": [
    "import pandas as pd"
   ]
  },
  {
   "cell_type": "markdown",
   "metadata": {},
   "source": [
    "## Working with DataFrames"
   ]
  },
  {
   "cell_type": "markdown",
   "metadata": {},
   "source": [
    "Now that we can get data into a DataFrame, we can finally start working with them. pandas has an abundance of functionality, far too much for me to cover in this introduction. I'd encourage anyone interested in diving deeper into the library to check out its [excellent documentation](http://pandas.pydata.org/pandas-docs/stable/). Or just use Google — there are a lot of Stack Overflow questions and blog posts covering specifics of the library.\n",
    "\n",
    "We'll be using the [MovieLens](http://www.grouplens.org/node/73) dataset in many examples going forward. The dataset contains 100,000 ratings made by 943 users on 1,682 movies."
   ]
  },
  {
   "cell_type": "code",
   "execution_count": 19,
   "metadata": {},
   "outputs": [],
   "source": [
    "# pass in column names for each CSV\n",
    "u_cols = ['user_id', 'age', 'sex', 'occupation', 'zip_code']\n",
    "users = pd.read_csv('data/ml-100k/u.user', sep='|', names=u_cols, encoding='latin-1')\n",
    "\n",
    "r_cols = ['user_id', 'movie_id', 'rating', 'unix_timestamp']\n",
    "ratings = pd.read_csv('data/ml-100k/u.data', sep='\\t', names=r_cols, encoding='latin-1')\n",
    "\n",
    "# the movies file contains columns indicating the movie's genres\n",
    "# let's only load the first five columns of the file with usecols\n",
    "m_cols = ['movie_id', 'title', 'release_date', 'video_release_date', 'imdb_url']\n",
    "movies = pd.read_csv('data/ml-100k/u.item', sep='|', names=m_cols, usecols=range(5), encoding='latin-1')"
   ]
  },
  {
   "cell_type": "markdown",
   "metadata": {},
   "source": [
    "### Inspection\n",
    "\n",
    "pandas has a variety of functions for getting basic information about your DataFrame, the most basic of which is using the `info` method."
   ]
  },
  {
   "cell_type": "code",
   "execution_count": 20,
   "metadata": {},
   "outputs": [
    {
     "output_type": "stream",
     "name": "stdout",
     "text": "<class 'pandas.core.frame.DataFrame'>\nRangeIndex: 1682 entries, 0 to 1681\nData columns (total 5 columns):\n #   Column              Non-Null Count  Dtype  \n---  ------              --------------  -----  \n 0   movie_id            1682 non-null   int64  \n 1   title               1682 non-null   object \n 2   release_date        1681 non-null   object \n 3   video_release_date  0 non-null      float64\n 4   imdb_url            1679 non-null   object \ndtypes: float64(1), int64(1), object(3)\nmemory usage: 65.8+ KB\n"
    }
   ],
   "source": [
    "movies.info()"
   ]
  },
  {
   "cell_type": "markdown",
   "metadata": {},
   "source": [
    "The output tells a few things about our DataFrame.\n",
    "\n",
    "1. It's obviously an instance of a DataFrame.\n",
    "2. Each row was assigned an index of 0 to N-1, where N is the number of rows in the DataFrame. pandas will do this by default if an index is not specified. Don't worry, this can be changed later.\n",
    "3. There are 1,682 rows (every row must have an index).\n",
    "4. Our dataset has five total columns, one of which isn't populated at all (*video_release_date*) and two that are missing some values (*release_date* and *imdb_url*).\n",
    "5. The last datatypes of each column, but not necessarily in the corresponding order to the listed columns. You should use the `dtypes` method to get the datatype for each column.\n",
    "6. An approximate amount of RAM used to hold the DataFrame. See the `.memory_usage` method"
   ]
  },
  {
   "cell_type": "code",
   "execution_count": 21,
   "metadata": {},
   "outputs": [
    {
     "output_type": "execute_result",
     "data": {
      "text/plain": "movie_id                int64\ntitle                  object\nrelease_date           object\nvideo_release_date    float64\nimdb_url               object\ndtype: object"
     },
     "metadata": {},
     "execution_count": 21
    }
   ],
   "source": [
    "movies.dtypes"
   ]
  },
  {
   "cell_type": "markdown",
   "metadata": {},
   "source": [
    "DataFrame's also have a `describe` method, which is great for seeing basic statistics about the dataset's numeric columns. Be careful though, since this will return information on **all** columns of a numeric datatype."
   ]
  },
  {
   "cell_type": "code",
   "execution_count": 22,
   "metadata": {},
   "outputs": [
    {
     "output_type": "execute_result",
     "data": {
      "text/plain": "          user_id         age\ncount  943.000000  943.000000\nmean   472.000000   34.051962\nstd    272.364951   12.192740\nmin      1.000000    7.000000\n25%    236.500000   25.000000\n50%    472.000000   31.000000\n75%    707.500000   43.000000\nmax    943.000000   73.000000",
      "text/html": "<div>\n<style scoped>\n    .dataframe tbody tr th:only-of-type {\n        vertical-align: middle;\n    }\n\n    .dataframe tbody tr th {\n        vertical-align: top;\n    }\n\n    .dataframe thead th {\n        text-align: right;\n    }\n</style>\n<table border=\"1\" class=\"dataframe\">\n  <thead>\n    <tr style=\"text-align: right;\">\n      <th></th>\n      <th>user_id</th>\n      <th>age</th>\n    </tr>\n  </thead>\n  <tbody>\n    <tr>\n      <th>count</th>\n      <td>943.000000</td>\n      <td>943.000000</td>\n    </tr>\n    <tr>\n      <th>mean</th>\n      <td>472.000000</td>\n      <td>34.051962</td>\n    </tr>\n    <tr>\n      <th>std</th>\n      <td>272.364951</td>\n      <td>12.192740</td>\n    </tr>\n    <tr>\n      <th>min</th>\n      <td>1.000000</td>\n      <td>7.000000</td>\n    </tr>\n    <tr>\n      <th>25%</th>\n      <td>236.500000</td>\n      <td>25.000000</td>\n    </tr>\n    <tr>\n      <th>50%</th>\n      <td>472.000000</td>\n      <td>31.000000</td>\n    </tr>\n    <tr>\n      <th>75%</th>\n      <td>707.500000</td>\n      <td>43.000000</td>\n    </tr>\n    <tr>\n      <th>max</th>\n      <td>943.000000</td>\n      <td>73.000000</td>\n    </tr>\n  </tbody>\n</table>\n</div>"
     },
     "metadata": {},
     "execution_count": 22
    }
   ],
   "source": [
    "users.describe()"
   ]
  },
  {
   "cell_type": "markdown",
   "metadata": {},
   "source": [
    "Notice *user_id* was included since it's numeric. Since this is an ID value, the stats for it don't really matter.\n",
    "\n",
    "We can quickly see the average age of our users is just above 34 years old, with the youngest being 7 and the oldest being 73. The median age is 31, with the youngest quartile of users being 25 or younger, and the oldest quartile being at least 43."
   ]
  },
  {
   "cell_type": "markdown",
   "metadata": {},
   "source": [
    "You've probably noticed that I've used the `head` method regularly throughout this post — by default, `head` displays the first five records of the dataset, while `tail` displays the last five."
   ]
  },
  {
   "cell_type": "code",
   "execution_count": 23,
   "metadata": {},
   "outputs": [
    {
     "output_type": "execute_result",
     "data": {
      "text/plain": "   movie_id              title release_date  video_release_date  \\\n0         1   Toy Story (1995)  01-Jan-1995                 NaN   \n1         2   GoldenEye (1995)  01-Jan-1995                 NaN   \n2         3  Four Rooms (1995)  01-Jan-1995                 NaN   \n3         4  Get Shorty (1995)  01-Jan-1995                 NaN   \n4         5     Copycat (1995)  01-Jan-1995                 NaN   \n\n                                            imdb_url  \n0  http://us.imdb.com/M/title-exact?Toy%20Story%2...  \n1  http://us.imdb.com/M/title-exact?GoldenEye%20(...  \n2  http://us.imdb.com/M/title-exact?Four%20Rooms%...  \n3  http://us.imdb.com/M/title-exact?Get%20Shorty%...  \n4  http://us.imdb.com/M/title-exact?Copycat%20(1995)  ",
      "text/html": "<div>\n<style scoped>\n    .dataframe tbody tr th:only-of-type {\n        vertical-align: middle;\n    }\n\n    .dataframe tbody tr th {\n        vertical-align: top;\n    }\n\n    .dataframe thead th {\n        text-align: right;\n    }\n</style>\n<table border=\"1\" class=\"dataframe\">\n  <thead>\n    <tr style=\"text-align: right;\">\n      <th></th>\n      <th>movie_id</th>\n      <th>title</th>\n      <th>release_date</th>\n      <th>video_release_date</th>\n      <th>imdb_url</th>\n    </tr>\n  </thead>\n  <tbody>\n    <tr>\n      <th>0</th>\n      <td>1</td>\n      <td>Toy Story (1995)</td>\n      <td>01-Jan-1995</td>\n      <td>NaN</td>\n      <td>http://us.imdb.com/M/title-exact?Toy%20Story%2...</td>\n    </tr>\n    <tr>\n      <th>1</th>\n      <td>2</td>\n      <td>GoldenEye (1995)</td>\n      <td>01-Jan-1995</td>\n      <td>NaN</td>\n      <td>http://us.imdb.com/M/title-exact?GoldenEye%20(...</td>\n    </tr>\n    <tr>\n      <th>2</th>\n      <td>3</td>\n      <td>Four Rooms (1995)</td>\n      <td>01-Jan-1995</td>\n      <td>NaN</td>\n      <td>http://us.imdb.com/M/title-exact?Four%20Rooms%...</td>\n    </tr>\n    <tr>\n      <th>3</th>\n      <td>4</td>\n      <td>Get Shorty (1995)</td>\n      <td>01-Jan-1995</td>\n      <td>NaN</td>\n      <td>http://us.imdb.com/M/title-exact?Get%20Shorty%...</td>\n    </tr>\n    <tr>\n      <th>4</th>\n      <td>5</td>\n      <td>Copycat (1995)</td>\n      <td>01-Jan-1995</td>\n      <td>NaN</td>\n      <td>http://us.imdb.com/M/title-exact?Copycat%20(1995)</td>\n    </tr>\n  </tbody>\n</table>\n</div>"
     },
     "metadata": {},
     "execution_count": 23
    }
   ],
   "source": [
    "movies.head()"
   ]
  },
  {
   "cell_type": "code",
   "execution_count": 24,
   "metadata": {},
   "outputs": [
    {
     "output_type": "execute_result",
     "data": {
      "text/plain": "      movie_id                                      title release_date  \\\n1679      1680                       Sliding Doors (1998)  01-Jan-1998   \n1680      1681                        You So Crazy (1994)  01-Jan-1994   \n1681      1682  Scream of Stone (Schrei aus Stein) (1991)  08-Mar-1996   \n\n      video_release_date                                           imdb_url  \n1679                 NaN      http://us.imdb.com/Title?Sliding+Doors+(1998)  \n1680                 NaN  http://us.imdb.com/M/title-exact?You%20So%20Cr...  \n1681                 NaN  http://us.imdb.com/M/title-exact?Schrei%20aus%...  ",
      "text/html": "<div>\n<style scoped>\n    .dataframe tbody tr th:only-of-type {\n        vertical-align: middle;\n    }\n\n    .dataframe tbody tr th {\n        vertical-align: top;\n    }\n\n    .dataframe thead th {\n        text-align: right;\n    }\n</style>\n<table border=\"1\" class=\"dataframe\">\n  <thead>\n    <tr style=\"text-align: right;\">\n      <th></th>\n      <th>movie_id</th>\n      <th>title</th>\n      <th>release_date</th>\n      <th>video_release_date</th>\n      <th>imdb_url</th>\n    </tr>\n  </thead>\n  <tbody>\n    <tr>\n      <th>1679</th>\n      <td>1680</td>\n      <td>Sliding Doors (1998)</td>\n      <td>01-Jan-1998</td>\n      <td>NaN</td>\n      <td>http://us.imdb.com/Title?Sliding+Doors+(1998)</td>\n    </tr>\n    <tr>\n      <th>1680</th>\n      <td>1681</td>\n      <td>You So Crazy (1994)</td>\n      <td>01-Jan-1994</td>\n      <td>NaN</td>\n      <td>http://us.imdb.com/M/title-exact?You%20So%20Cr...</td>\n    </tr>\n    <tr>\n      <th>1681</th>\n      <td>1682</td>\n      <td>Scream of Stone (Schrei aus Stein) (1991)</td>\n      <td>08-Mar-1996</td>\n      <td>NaN</td>\n      <td>http://us.imdb.com/M/title-exact?Schrei%20aus%...</td>\n    </tr>\n  </tbody>\n</table>\n</div>"
     },
     "metadata": {},
     "execution_count": 24
    }
   ],
   "source": [
    "movies.tail(3)"
   ]
  },
  {
   "cell_type": "markdown",
   "metadata": {},
   "source": [
    "Alternatively, Python's regular [slicing](http://docs.python.org/release/2.3.5/whatsnew/section-slices.html) syntax works as well."
   ]
  },
  {
   "cell_type": "code",
   "execution_count": 25,
   "metadata": {},
   "outputs": [
    {
     "output_type": "execute_result",
     "data": {
      "text/plain": "    movie_id                          title release_date  video_release_date  \\\n20        21  Muppet Treasure Island (1996)  16-Feb-1996                 NaN   \n21        22              Braveheart (1995)  16-Feb-1996                 NaN   \n\n                                             imdb_url  \n20  http://us.imdb.com/M/title-exact?Muppet%20Trea...  \n21  http://us.imdb.com/M/title-exact?Braveheart%20...  ",
      "text/html": "<div>\n<style scoped>\n    .dataframe tbody tr th:only-of-type {\n        vertical-align: middle;\n    }\n\n    .dataframe tbody tr th {\n        vertical-align: top;\n    }\n\n    .dataframe thead th {\n        text-align: right;\n    }\n</style>\n<table border=\"1\" class=\"dataframe\">\n  <thead>\n    <tr style=\"text-align: right;\">\n      <th></th>\n      <th>movie_id</th>\n      <th>title</th>\n      <th>release_date</th>\n      <th>video_release_date</th>\n      <th>imdb_url</th>\n    </tr>\n  </thead>\n  <tbody>\n    <tr>\n      <th>20</th>\n      <td>21</td>\n      <td>Muppet Treasure Island (1996)</td>\n      <td>16-Feb-1996</td>\n      <td>NaN</td>\n      <td>http://us.imdb.com/M/title-exact?Muppet%20Trea...</td>\n    </tr>\n    <tr>\n      <th>21</th>\n      <td>22</td>\n      <td>Braveheart (1995)</td>\n      <td>16-Feb-1996</td>\n      <td>NaN</td>\n      <td>http://us.imdb.com/M/title-exact?Braveheart%20...</td>\n    </tr>\n  </tbody>\n</table>\n</div>"
     },
     "metadata": {},
     "execution_count": 25
    }
   ],
   "source": [
    "movies[20:22]"
   ]
  },
  {
   "cell_type": "markdown",
   "metadata": {},
   "source": [
    "### Selecting\n",
    "\n",
    "You can think of a DataFrame as a group of Series that share an index (in this case the column headers). This makes it easy to select specific columns.\n",
    "\n",
    "Selecting a single column from the DataFrame will return a Series object."
   ]
  },
  {
   "cell_type": "code",
   "execution_count": 26,
   "metadata": {},
   "outputs": [
    {
     "output_type": "execute_result",
     "data": {
      "text/plain": "0    technician\n1         other\n2        writer\n3    technician\n4         other\nName: occupation, dtype: object"
     },
     "metadata": {},
     "execution_count": 26
    }
   ],
   "source": [
    "users['occupation'].head()"
   ]
  },
  {
   "cell_type": "markdown",
   "metadata": {},
   "source": [
    "To select multiple columns, simply pass a list of column names to the DataFrame, the output of which will be a DataFrame."
   ]
  },
  {
   "cell_type": "code",
   "execution_count": 27,
   "metadata": {},
   "outputs": [
    {
     "output_type": "stream",
     "name": "stdout",
     "text": "age zip_code\n0   24    85711\n1   53    94043\n2   23    32067\n3   24    43537\n4   33    15213\n\n\n   occupation sex\n0  technician   M\n1       other   F\n2      writer   M\n3  technician   M\n4       other   F\n"
    }
   ],
   "source": [
    "print(users[['age', 'zip_code']].head())\n",
    "print('\\n')\n",
    "\n",
    "# can also store in a variable to use later\n",
    "columns_you_want = ['occupation', 'sex'] \n",
    "print(users[columns_you_want].head())"
   ]
  },
  {
   "cell_type": "markdown",
   "metadata": {},
   "source": [
    "Row selection can be done multiple ways, but doing so by an individual index or boolean indexing are typically easiest."
   ]
  },
  {
   "cell_type": "code",
   "execution_count": 28,
   "metadata": {},
   "outputs": [
    {
     "output_type": "stream",
     "name": "stdout",
     "text": "user_id  age sex occupation zip_code\n1        2   53   F      other    94043\n4        5   33   F      other    15213\n5        6   42   M  executive    98101\n\n\n     user_id  age sex  occupation zip_code\n18        19   40   M   librarian    02138\n82        83   40   M       other    44133\n115      116   40   M  healthcare    97232\n\n\n   user_id  age sex  occupation zip_code\n0        1   24   M  technician    85711\n1        2   53   F       other    94043\n2        3   23   M      writer    32067\n"
    }
   ],
   "source": [
    "# users older than 25\n",
    "print(users[users.age > 25].head(3))\n",
    "print('\\n')\n",
    "\n",
    "# users aged 40 AND male\n",
    "print(users[(users.age == 40) & (users.sex == 'M')].head(3))\n",
    "print('\\n')\n",
    "\n",
    "# users younger than 30 OR female\n",
    "print(users[(users.sex == 'F') | (users.age < 30)].head(3))"
   ]
  },
  {
   "cell_type": "markdown",
   "metadata": {},
   "source": [
    "Since our index is kind of meaningless right now, let's set it to the *user_id* using the `set_index` method. By default, `set_index` returns a new DataFrame, so you'll have to specify if you'd like the changes to occur in place.\n",
    "\n",
    "This has confused me in the past, so look carefully at the code and output below."
   ]
  },
  {
   "cell_type": "code",
   "execution_count": 29,
   "metadata": {},
   "outputs": [
    {
     "output_type": "stream",
     "name": "stdout",
     "text": "age sex  occupation zip_code\nuser_id                              \n1         24   M  technician    85711\n2         53   F       other    94043\n3         23   M      writer    32067\n4         24   M  technician    43537\n5         33   F       other    15213\n\n\n   user_id  age sex  occupation zip_code\n0        1   24   M  technician    85711\n1        2   53   F       other    94043\n2        3   23   M      writer    32067\n3        4   24   M  technician    43537\n4        5   33   F       other    15213\n\n^^^ I didn't actually change the DataFrame. ^^^\n\n         age sex  occupation zip_code\nuser_id                              \n1         24   M  technician    85711\n2         53   F       other    94043\n3         23   M      writer    32067\n4         24   M  technician    43537\n5         33   F       other    15213\n\n^^^ set_index actually returns a new DataFrame. ^^^\n\n"
    }
   ],
   "source": [
    "print(users.set_index('user_id').head())\n",
    "print('\\n')\n",
    "\n",
    "print(users.head())\n",
    "print(\"\\n^^^ I didn't actually change the DataFrame. ^^^\\n\")\n",
    "\n",
    "with_new_index = users.set_index('user_id')\n",
    "print(with_new_index.head())\n",
    "print(\"\\n^^^ set_index actually returns a new DataFrame. ^^^\\n\")"
   ]
  },
  {
   "cell_type": "markdown",
   "metadata": {},
   "source": [
    "If you want to modify your existing DataFrame, use the `inplace` parameter. Most DataFrame methods return new a DataFrames, while offering an `inplace` parameter. Note that the `inplace` version might not actually be any more efficint (in terms of speed or memory usage) that the regular version."
   ]
  },
  {
   "cell_type": "code",
   "execution_count": 30,
   "metadata": {},
   "outputs": [
    {
     "output_type": "execute_result",
     "data": {
      "text/plain": "         age sex  occupation zip_code\nuser_id                              \n1         24   M  technician    85711\n2         53   F       other    94043\n3         23   M      writer    32067\n4         24   M  technician    43537\n5         33   F       other    15213",
      "text/html": "<div>\n<style scoped>\n    .dataframe tbody tr th:only-of-type {\n        vertical-align: middle;\n    }\n\n    .dataframe tbody tr th {\n        vertical-align: top;\n    }\n\n    .dataframe thead th {\n        text-align: right;\n    }\n</style>\n<table border=\"1\" class=\"dataframe\">\n  <thead>\n    <tr style=\"text-align: right;\">\n      <th></th>\n      <th>age</th>\n      <th>sex</th>\n      <th>occupation</th>\n      <th>zip_code</th>\n    </tr>\n    <tr>\n      <th>user_id</th>\n      <th></th>\n      <th></th>\n      <th></th>\n      <th></th>\n    </tr>\n  </thead>\n  <tbody>\n    <tr>\n      <th>1</th>\n      <td>24</td>\n      <td>M</td>\n      <td>technician</td>\n      <td>85711</td>\n    </tr>\n    <tr>\n      <th>2</th>\n      <td>53</td>\n      <td>F</td>\n      <td>other</td>\n      <td>94043</td>\n    </tr>\n    <tr>\n      <th>3</th>\n      <td>23</td>\n      <td>M</td>\n      <td>writer</td>\n      <td>32067</td>\n    </tr>\n    <tr>\n      <th>4</th>\n      <td>24</td>\n      <td>M</td>\n      <td>technician</td>\n      <td>43537</td>\n    </tr>\n    <tr>\n      <th>5</th>\n      <td>33</td>\n      <td>F</td>\n      <td>other</td>\n      <td>15213</td>\n    </tr>\n  </tbody>\n</table>\n</div>"
     },
     "metadata": {},
     "execution_count": 30
    }
   ],
   "source": [
    "users.set_index('user_id', inplace=True)\n",
    "users.head()"
   ]
  },
  {
   "cell_type": "markdown",
   "metadata": {},
   "source": [
    "Notice that we've lost the default pandas 0-based index and moved the *user_id* into its place.  We can select rows **by position** using the `iloc` method."
   ]
  },
  {
   "cell_type": "code",
   "execution_count": 31,
   "metadata": {},
   "outputs": [
    {
     "output_type": "stream",
     "name": "stdout",
     "text": "age                  36\nsex                   M\noccupation    executive\nzip_code          90254\nName: 100, dtype: object\n\n\n         age sex occupation zip_code\nuser_id                             \n2         53   F      other    94043\n51        28   M   educator    16509\n301       24   M    student    55439\n"
    }
   ],
   "source": [
    "print(users.iloc[99])\n",
    "print('\\n')\n",
    "print(users.iloc[[1, 50, 300]])"
   ]
  },
  {
   "cell_type": "markdown",
   "metadata": {},
   "source": [
    "And we can select rows **by label** with the `loc` method."
   ]
  },
  {
   "cell_type": "code",
   "execution_count": 32,
   "metadata": {},
   "outputs": [
    {
     "output_type": "stream",
     "name": "stdout",
     "text": "age                  36\nsex                   M\noccupation    executive\nzip_code          90254\nName: 100, dtype: object\n\n\n         age sex occupation zip_code\nuser_id                             \n2         53   F      other    94043\n51        28   M   educator    16509\n301       24   M    student    55439\n"
    }
   ],
   "source": [
    "print(users.loc[100])\n",
    "print('\\n')\n",
    "print(users.loc[[2, 51, 301]])"
   ]
  },
  {
   "cell_type": "markdown",
   "metadata": {},
   "source": [
    "If we realize later that we liked the old pandas default index, we can just `reset_index`.  The same rules for `inplace` apply."
   ]
  },
  {
   "cell_type": "code",
   "execution_count": 33,
   "metadata": {},
   "outputs": [
    {
     "output_type": "execute_result",
     "data": {
      "text/plain": "   user_id  age sex  occupation zip_code\n0        1   24   M  technician    85711\n1        2   53   F       other    94043\n2        3   23   M      writer    32067\n3        4   24   M  technician    43537\n4        5   33   F       other    15213",
      "text/html": "<div>\n<style scoped>\n    .dataframe tbody tr th:only-of-type {\n        vertical-align: middle;\n    }\n\n    .dataframe tbody tr th {\n        vertical-align: top;\n    }\n\n    .dataframe thead th {\n        text-align: right;\n    }\n</style>\n<table border=\"1\" class=\"dataframe\">\n  <thead>\n    <tr style=\"text-align: right;\">\n      <th></th>\n      <th>user_id</th>\n      <th>age</th>\n      <th>sex</th>\n      <th>occupation</th>\n      <th>zip_code</th>\n    </tr>\n  </thead>\n  <tbody>\n    <tr>\n      <th>0</th>\n      <td>1</td>\n      <td>24</td>\n      <td>M</td>\n      <td>technician</td>\n      <td>85711</td>\n    </tr>\n    <tr>\n      <th>1</th>\n      <td>2</td>\n      <td>53</td>\n      <td>F</td>\n      <td>other</td>\n      <td>94043</td>\n    </tr>\n    <tr>\n      <th>2</th>\n      <td>3</td>\n      <td>23</td>\n      <td>M</td>\n      <td>writer</td>\n      <td>32067</td>\n    </tr>\n    <tr>\n      <th>3</th>\n      <td>4</td>\n      <td>24</td>\n      <td>M</td>\n      <td>technician</td>\n      <td>43537</td>\n    </tr>\n    <tr>\n      <th>4</th>\n      <td>5</td>\n      <td>33</td>\n      <td>F</td>\n      <td>other</td>\n      <td>15213</td>\n    </tr>\n  </tbody>\n</table>\n</div>"
     },
     "metadata": {},
     "execution_count": 33
    }
   ],
   "source": [
    "users.reset_index(inplace=True)\n",
    "users.head()"
   ]
  },
  {
   "cell_type": "markdown",
   "metadata": {},
   "source": [
    "The simplified rules of indexing are\n",
    "\n",
    "- Use `loc` for label-based indexing\n",
    "- Use `iloc` for positional indexing\n",
    "\n",
    "I've found that I can usually get by with boolean indexing, `loc` and `iloc`, but pandas has a whole host of [other ways to do selection](http://pandas.pydata.org/pandas-docs/stable/indexing.html)."
   ]
  },
  {
   "cell_type": "markdown",
   "metadata": {},
   "source": [
    "## Further reading"
   ]
  },
  {
   "cell_type": "markdown",
   "metadata": {},
   "source": [
    "Using pandas you can do any data manipulation you can do in excel or a database plus a whole lot more. The only limitation is that all the work must be able to be done in-memory on your computer.\n",
    "\n",
    "You may have noticed the general process is to perform some manipulation and then call `df.head()` to see if you got what you want. In a real application you'll likely also be googling how to do certain operations or debug your error message, similar to a lot of other coding and analytical work.\n",
    "\n",
    "* Check out more introductory notebooks in **Juno**!\n",
    "* [Pandas documentation](http://pandas.pydata.org/pandas-docs/stable/) \n",
    "* [Introduction to pandas by Chris Fonnesbeck](http://nbviewer.ipython.org/urls/gist.github.com/fonnesbeck/5850375/raw/c18cfcd9580d382cb6d14e4708aab33a0916ff3e/1.+Introduction+to+Pandas.ipynb) \n",
    "* [Pandas videos from PyCon](http://pyvideo.org/search?models=videos.video&q=pandas)\n",
    "* [Pandas and Python top 10](http://manishamde.github.io/blog/2013/03/07/pandas-and-python-top-10/)\n",
    "* [Practical pandas by Tom Augspurger (one of the pandas developers)](http://tomaugspurger.github.io/categories/pandas.html)"
   ]
  },
  {
   "cell_type": "markdown",
   "metadata": {},
   "source": [
    "## Versions"
   ]
  },
  {
   "cell_type": "code",
   "execution_count": 34,
   "metadata": {},
   "outputs": [
    {
     "output_type": "execute_result",
     "data": {
      "text/plain": "Software versions\nPython 3.7.6 64bit [Clang 4.0.1 (tags/RELEASE_401/final)]\nIPython 7.13.0\nOS Darwin 19.4.0 x86_64 i386 64bit\npandas 1.0.3\nnumpy 1.18.2\nxlrd 1.2.0\nSat Apr 11 19:35:50 2020 EEST",
      "text/html": "<table><tr><th>Software</th><th>Version</th></tr><tr><td>Python</td><td>3.7.6 64bit [Clang 4.0.1 (tags/RELEASE_401/final)]</td></tr><tr><td>IPython</td><td>7.13.0</td></tr><tr><td>OS</td><td>Darwin 19.4.0 x86_64 i386 64bit</td></tr><tr><td>pandas</td><td>1.0.3</td></tr><tr><td>numpy</td><td>1.18.2</td></tr><tr><td>xlrd</td><td>1.2.0</td></tr><tr><td colspan='2'>Sat Apr 11 19:35:50 2020 EEST</td></tr></table>",
      "text/latex": "\\begin{tabular}{|l|l|}\\hline\n{\\bf Software} & {\\bf Version} \\\\ \\hline\\hline\nPython & 3.7.6 64bit [Clang 4.0.1 (tags/RELEASE\\_401/final)] \\\\ \\hline\nIPython & 7.13.0 \\\\ \\hline\nOS & Darwin 19.4.0 x86\\_64 i386 64bit \\\\ \\hline\npandas & 1.0.3 \\\\ \\hline\nnumpy & 1.18.2 \\\\ \\hline\nxlrd & 1.2.0 \\\\ \\hline\n\\hline \\multicolumn{2}{|l|}{Sat Apr 11 19:35:50 2020 EEST} \\\\ \\hline\n\\end{tabular}\n",
      "application/json": {
       "Software versions": [
        {
         "module": "Python",
         "version": "3.7.6 64bit [Clang 4.0.1 (tags/RELEASE_401/final)]"
        },
        {
         "module": "IPython",
         "version": "7.13.0"
        },
        {
         "module": "OS",
         "version": "Darwin 19.4.0 x86_64 i386 64bit"
        },
        {
         "module": "pandas",
         "version": "1.0.3"
        },
        {
         "module": "numpy",
         "version": "1.18.2"
        },
        {
         "module": "xlrd",
         "version": "1.2.0"
        }
       ]
      }
     },
     "metadata": {},
     "execution_count": 34
    }
   ],
   "source": [
    "%reload_ext version_information\n",
    "\n",
    "%version_information pandas, numpy, xlrd"
   ]
  }
 ],
 "metadata": {
  "kernelspec": {
   "display_name": "Python 3",
   "language": "python",
   "name": "python3"
  },
  "language_info": {
   "codemirror_mode": {
    "name": "ipython",
    "version": 3
   },
   "file_extension": ".py",
   "mimetype": "text/x-python",
   "name": "python",
   "nbconvert_exporter": "python",
   "pygments_lexer": "ipython3",
   "version": "3.7.6-final"
  }
 },
 "nbformat": 4,
 "nbformat_minor": 1
}