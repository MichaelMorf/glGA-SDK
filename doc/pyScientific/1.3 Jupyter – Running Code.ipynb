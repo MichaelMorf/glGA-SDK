{
 "cells": [
  {
   "cell_type": "markdown",
   "metadata": {},
   "source": [
    "# Running Code in Jupyter"
   ]
  },
  {
   "cell_type": "markdown",
   "metadata": {},
   "source": [
    "This notebook is a part of [Lectures on scientific computing with Python](http://github.com/jrjohansson/scientific-python-lectures) by [J.R. Johansson](http://jrjohansson.github.io). \n",
    "\n",
    "It has been updated by Prof. [George Papagiannakis](http://george.papagiannakis.org) as an introduction to the [glGA](http://george.papagiannakis.org/?page_id=513) SDK v2020.1 "
   ]
  },
  {
   "cell_type": "markdown",
   "metadata": {},
   "source": [
    "First and foremost, the Jupyter Notebook is an interactive environment for **writing and running code**. The notebook is capable of running code in a wide range of languages. However, each notebook is associated with a single kernel.  This notebook is associated with the IPython kernel, therefor runs Python code."
   ]
  },
  {
   "cell_type": "markdown",
   "metadata": {},
   "source": [
    "## Code cells"
   ]
  },
  {
   "cell_type": "markdown",
   "metadata": {},
   "source": [
    "Code cells allow you to enter and run code. Run a code cell by pressing the `▶︎` button in the bottom-right panel, or `Control`+`Enter` on your hardware keyboard."
   ]
  },
  {
   "cell_type": "code",
   "execution_count": 5,
   "metadata": {},
   "outputs": [],
   "source": [
    "a = 10"
   ]
  },
  {
   "cell_type": "code",
   "execution_count": 4,
   "metadata": {
    "tags": []
   },
   "outputs": [
    {
     "output_type": "stream",
     "name": "stdout",
     "text": "10\n"
    }
   ],
   "source": [
    "print(a)"
   ]
  },
  {
   "cell_type": "markdown",
   "metadata": {},
   "source": [
    "There are a couple of keyboard shortcuts for running code:\n",
    "\n",
    "* `Control`+`Enter` run the current cell and enters command mode.\n",
    "* `Shift`+`Enter` runs the current cell and moves selection to the one below.\n",
    "* `Option`+`Enter` runs the current cell and inserts a new one below."
   ]
  },
  {
   "cell_type": "markdown",
   "metadata": {},
   "source": [
    "## Managing the kernel"
   ]
  },
  {
   "cell_type": "markdown",
   "metadata": {},
   "source": [
    "Code is run in a separate process called the **kernel**, which can be interrupted or restarted. You can see kernel indicator in the top-right corner reporting current kernel state: `⚪︎` means kernel is **ready** to execute code, and `⚫︎` means kernel is currently **busy**. Tapping kernel indicator will open **kernel menu**, where you can reconnect, interrupt or restart kernel.  \n",
    "\n",
    "Try running the following cell — kernel indicator will switch from `⚪︎` to `⚫︎`, i.e. reporting kernel as \"busy\". This means that you won't be able to run any new cells until current execution finishes, or until kernel is interrupted. You can then go to kernel menu by tapping the kernel indicator and select \"Interrupt\"."
   ]
  },
  {
   "cell_type": "code",
   "execution_count": 10,
   "metadata": {
    "tags": []
   },
   "outputs": [
    {
     "output_type": "stream",
     "name": "stdout",
     "text": "this is printed after 10s that you executed this Jupyter cell!\n"
    }
   ],
   "source": [
    "import time\n",
    "time.sleep(10)\n",
    "print(\"this is printed after 10s that you executed this Jupyter cell!\")"
   ]
  },
  {
   "cell_type": "markdown",
   "metadata": {},
   "source": [
    "If kernel dies you will be prompted to restart it."
   ]
  },
  {
   "cell_type": "markdown",
   "metadata": {},
   "source": [
    "## Run menu"
   ]
  },
  {
   "cell_type": "markdown",
   "metadata": {},
   "source": [
    "Pressing and holding the \"Run\" button (`▶︎`) will reveal a menu with run options: for instance, you can configure the editor to automatically advance to the next cell after running the selected cell. In Visual Studio Code you can press the (▶︎▶︎) button at the top left to Run all cells in the Jupyter notebook."
   ]
  },
  {
   "cell_type": "markdown",
   "metadata": {},
   "source": [
    "## Restarting kernels"
   ]
  },
  {
   "cell_type": "markdown",
   "metadata": {},
   "source": [
    "Kernel maintains the state of a notebook's computations. You can reset this state by restarting the kernel. This is done by going to the kernel menu by tapping the kernel indicator in the top-right corner and selecting \"Restart\"."
   ]
  },
  {
   "cell_type": "markdown",
   "metadata": {},
   "source": [
    "### **sys.stdout** and **sys.stderr**"
   ]
  },
  {
   "cell_type": "markdown",
   "metadata": {},
   "source": [
    "The `stdout` and `stderr` streams are displayed as text in the output area."
   ]
  },
  {
   "cell_type": "code",
   "execution_count": 6,
   "metadata": {
    "tags": []
   },
   "outputs": [
    {
     "output_type": "stream",
     "name": "stdout",
     "text": "hi, stdout\n"
    }
   ],
   "source": [
    "print(\"hi, stdout\")"
   ]
  },
  {
   "cell_type": "code",
   "execution_count": 7,
   "metadata": {
    "tags": []
   },
   "outputs": [
    {
     "output_type": "stream",
     "name": "stderr",
     "text": "hi, stderr\n"
    }
   ],
   "source": [
    "import sys\n",
    "print('hi, stderr', file=sys.stderr)"
   ]
  },
  {
   "cell_type": "markdown",
   "metadata": {},
   "source": [
    "## Output is asynchronous"
   ]
  },
  {
   "cell_type": "markdown",
   "metadata": {},
   "source": [
    "All output is displayed asynchronously as it is generated in the kernel. If you execute the next cell, you will see the output one piece at a time, not all at the end."
   ]
  },
  {
   "cell_type": "code",
   "execution_count": 8,
   "metadata": {
    "tags": []
   },
   "outputs": [
    {
     "output_type": "stream",
     "name": "stdout",
     "text": "0\n1\n2\n3\n4\n5\n6\n7\nsys.version_info(major=3, minor=7, micro=6, releaselevel='final', serial=0)\n"
    }
   ],
   "source": [
    "import time, sys\n",
    "for i in range(8):\n",
    "    print(i)\n",
    "    time.sleep(0.5)\n",
    "\n",
    "print(sys.version_info)"
   ]
  },
  {
   "cell_type": "markdown",
   "metadata": {},
   "source": [
    "## Versions"
   ]
  },
  {
   "cell_type": "code",
   "execution_count": 11,
   "metadata": {
    "tags": []
   },
   "outputs": [
    {
     "output_type": "stream",
     "name": "stdout",
     "text": "The version_information extension is already loaded. To reload it, use:\n  %reload_ext version_information\n"
    },
    {
     "output_type": "execute_result",
     "data": {
      "text/plain": "Software versions\nPython 3.7.6 64bit [Clang 4.0.1 (tags/RELEASE_401/final)]\nIPython 7.12.0\nOS Darwin 19.5.0 x86_64 i386 64bit\nSun Jul 26 14:22:06 2020 EEST",
      "text/html": "<table><tr><th>Software</th><th>Version</th></tr><tr><td>Python</td><td>3.7.6 64bit [Clang 4.0.1 (tags/RELEASE_401/final)]</td></tr><tr><td>IPython</td><td>7.12.0</td></tr><tr><td>OS</td><td>Darwin 19.5.0 x86_64 i386 64bit</td></tr><tr><td colspan='2'>Sun Jul 26 14:22:06 2020 EEST</td></tr></table>",
      "text/latex": "\\begin{tabular}{|l|l|}\\hline\n{\\bf Software} & {\\bf Version} \\\\ \\hline\\hline\nPython & 3.7.6 64bit [Clang 4.0.1 (tags/RELEASE\\_401/final)] \\\\ \\hline\nIPython & 7.12.0 \\\\ \\hline\nOS & Darwin 19.5.0 x86\\_64 i386 64bit \\\\ \\hline\n\\hline \\multicolumn{2}{|l|}{Sun Jul 26 14:22:06 2020 EEST} \\\\ \\hline\n\\end{tabular}\n",
      "application/json": {
       "Software versions": [
        {
         "module": "Python",
         "version": "3.7.6 64bit [Clang 4.0.1 (tags/RELEASE_401/final)]"
        },
        {
         "module": "IPython",
         "version": "7.12.0"
        },
        {
         "module": "OS",
         "version": "Darwin 19.5.0 x86_64 i386 64bit"
        }
       ]
      }
     },
     "metadata": {},
     "execution_count": 11
    }
   ],
   "source": [
    "%load_ext version_information\n",
    "\n",
    "%version_information"
   ]
  },
  {
   "cell_type": "code",
   "execution_count": null,
   "metadata": {},
   "outputs": [],
   "source": []
  }
 ],
 "metadata": {
  "kernelspec": {
   "display_name": "Python 3",
   "language": "python",
   "name": "python3"
  },
  "language_info": {
   "codemirror_mode": {
    "name": "ipython",
    "version": 3
   },
   "file_extension": ".py",
   "mimetype": "text/x-python",
   "name": "python",
   "nbconvert_exporter": "python",
   "pygments_lexer": "ipython3",
   "version": "3.7.6-final"
  }
 },
 "nbformat": 4,
 "nbformat_minor": 2
}