{
 "cells": [
  {
   "cell_type": "markdown",
   "id": "3df9ae43",
   "metadata": {},
   "source": [
    "# Local2World and Root2Cam Matrices\n",
    "\n",
    "\n",
    "Let us take for example the following scenegraph:\n",
    "![scenegraph_example](./Files_for_notebooks/scenegraph_example.png)"
   ]
  },
  {
   "cell_type": "markdown",
   "id": "7473714e",
   "metadata": {},
   "source": [
    "We can simplify this as follows:"
   ]
  },
  {
   "cell_type": "markdown",
   "id": "703e53a5",
   "metadata": {},
   "source": [
    "![Scenegraph-simplified](./Files_for_notebooks/Scenegraph-simplified.png)\n",
    "\n",
    "The arrows represent the translation matrix of a component with respect to its parent. For example, $T_5$ corresponds to the relative position of N3 node with respect to its parent node N2."
   ]
  },
  {
   "cell_type": "markdown",
   "id": "a7e3e848",
   "metadata": {},
   "source": [
    "## Evaluating local2world matrices\n",
    "\n",
    "We may evaluate the **local2world** (l2w) matrix by traversing upwards the scenegraph and multiply left to right as you do.\n",
    "\n",
    "For example, the l2w matrix for the node N4 is $T_4\\cdot T_5\\cdot T_6$. \n",
    "For node N1, l2w matrix is simply matrix $T_3$.\n"
   ]
  },
  {
   "cell_type": "markdown",
   "id": "5fe33335",
   "metadata": {},
   "source": [
    "## Evaluating root2cam matrices\n",
    "We may evaluate the **root2cam** (r2c) matrix by traversing downwards till you reach the camera from the root and then multiply with the inverse of each Transform (since we want to ‘cancel it out’). \n",
    "\n",
    "For example,the r2c matrix for the camera node C2 is $T_2^{-1}\\cdot T_1^{-1}$. For the camera node C1 it is simply $T_1^{-1}$."
   ]
  }
 ],
 "metadata": {
  "kernelspec": {
   "display_name": "glGA39",
   "language": "python",
   "name": "glga39"
  },
  "language_info": {
   "codemirror_mode": {
    "name": "ipython",
    "version": 3
   },
   "file_extension": ".py",
   "mimetype": "text/x-python",
   "name": "python",
   "nbconvert_exporter": "python",
   "pygments_lexer": "ipython3",
   "version": "3.9.7"
  }
 },
 "nbformat": 4,
 "nbformat_minor": 5
}
