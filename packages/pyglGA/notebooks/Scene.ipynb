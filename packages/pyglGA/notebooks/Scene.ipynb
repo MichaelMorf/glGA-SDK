{
 "metadata": {
  "language_info": {
   "codemirror_mode": {
    "name": "ipython",
    "version": 3
   },
   "file_extension": ".py",
   "mimetype": "text/x-python",
   "name": "python",
   "nbconvert_exporter": "python",
   "pygments_lexer": "ipython3",
   "version": "3.7.9"
  },
  "orig_nbformat": 2,
  "kernelspec": {
   "name": "python3",
   "display_name": "Python 3.7.9 64-bit ('glGA37': conda)",
   "metadata": {
    "interpreter": {
     "hash": "38e56ec89d613ed1db8665747e1247bdd777b72942207e01357cfd83e328755a"
    }
   }
  }
 },
 "nbformat": 4,
 "nbformat_minor": 2,
 "cells": [
  {
   "cell_type": "code",
   "execution_count": null,
   "metadata": {},
   "outputs": [],
   "source": []
  },
  {
   "source": [
    "# ECSS notebook, part of the glGA SDK ECSS\n",
    "    \n",
    "## glGA SDK v2021.0.5 ECSS (Entity Component System in a Scenegraph)\n",
    "## @Coopyright 2020-2021 George Papagiannakis"
   ],
   "cell_type": "markdown",
   "metadata": {}
  },
  {
   "source": [
    "import sys\n",
    "import os\n",
    "\n",
    "sys.path.insert(0,os.path.abspath('../..'))\n",
    "print(sys.path)\n",
    "\n",
    "from pyglGA.basicWindow import main\n",
    "#main()\n",
    "\n",
    "\n"
   ],
   "cell_type": "code",
   "metadata": {},
   "execution_count": null,
   "outputs": []
  },
  {
   "cell_type": "code",
   "execution_count": 1,
   "metadata": {},
   "outputs": [
    {
     "output_type": "stream",
     "name": "stdout",
     "text": [
      "Creating Scene Singleton Object\n\n Entity name: RooT, type: Entity, id: 283146441347045561431960905588160860450, parent: None (root node)\n"
     ]
    }
   ],
   "source": [
    "from pyglGA.ECSS.utilities import *\n",
    "from pyglGA.ECSS.Entity import Entity\n",
    "from pyglGA.ECSS.ECSSManager import ECSSManager\n",
    "\n",
    "WorldManager = ECSSManager()\n",
    "rootEntity = WorldManager.createEntity(Entity(name=\"RooT\"))\n",
    "print(rootEntity)"
   ]
  },
  {
   "cell_type": "code",
   "execution_count": null,
   "metadata": {},
   "outputs": [],
   "source": [
    "import os\n",
    "import sys\n",
    "currentdir = os.path.abspath('.')\n",
    "parentdir = os.path.abspath('..')\n",
    "parent2dir = os.path.abspath('../..')\n",
    "#sys.path.append(parentdir)\n",
    "print(currentdir,\"\\n\", parentdir,\"\\n\", parent2dir )\n",
    "#print(sys.path)"
   ]
  },
  {
   "cell_type": "code",
   "execution_count": null,
   "metadata": {},
   "outputs": [],
   "source": []
  }
 ]
}