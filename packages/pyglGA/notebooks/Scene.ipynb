{
 "metadata": {
  "language_info": {
   "codemirror_mode": {
    "name": "ipython",
    "version": 3
   },
   "file_extension": ".py",
   "mimetype": "text/x-python",
   "name": "python",
   "nbconvert_exporter": "python",
   "pygments_lexer": "ipython3",
   "version": "3.7.9"
  },
  "orig_nbformat": 2,
  "kernelspec": {
   "name": "python379jvsc74a57bd038e56ec89d613ed1db8665747e1247bdd777b72942207e01357cfd83e328755a",
   "display_name": "Python 3.7.9 64-bit ('glGA37': conda)"
  }
 },
 "nbformat": 4,
 "nbformat_minor": 2,
 "cells": [
  {
   "cell_type": "code",
   "execution_count": null,
   "metadata": {},
   "outputs": [],
   "source": []
  },
  {
   "source": [
    "# ECSS notebook, part of the glGA SDK ECSS\n",
    "    \n",
    "## glGA SDK v2021.0.5 ECSS (Entity Component System in a Scenegraph)\n",
    "## @Coopyright 2020-2021 George Papagiannakis"
   ],
   "cell_type": "markdown",
   "metadata": {}
  },
  {
   "source": [
    "import sys\n",
    "import os\n",
    "\n",
    "sys.path.insert(0,os.path.abspath('../..'))\n",
    "print(sys.path)\n",
    "\n",
    "#from pyglGA.basicWindow import main\n",
    "#main()\n",
    "\n",
    "\n"
   ],
   "cell_type": "code",
   "metadata": {},
   "execution_count": 2,
   "outputs": [
    {
     "output_type": "stream",
     "name": "stdout",
     "text": [
      "['/Users/Giwrgakis/MyProjects/glGA-SDK/packages', '/Users/Giwrgakis/MyProjects/glGA-SDK/packages', '/Users/Giwrgakis/MyProjects/glGA-SDK/packages/pyglGA/notebooks', '/Users/Giwrgakis/.vscode/extensions/ms-toolsai.jupyter-2021.5.745244803/pythonFiles', '/Users/Giwrgakis/.vscode/extensions/ms-toolsai.jupyter-2021.5.745244803/pythonFiles', '/Users/Giwrgakis/.vscode/extensions/ms-toolsai.jupyter-2021.5.745244803/pythonFiles/lib/python', '/Users/Giwrgakis/opt/anaconda3/envs/glGA37/lib/python37.zip', '/Users/Giwrgakis/opt/anaconda3/envs/glGA37/lib/python3.7', '/Users/Giwrgakis/opt/anaconda3/envs/glGA37/lib/python3.7/lib-dynload', '', '/Users/Giwrgakis/opt/anaconda3/envs/glGA37/lib/python3.7/site-packages', '/Users/Giwrgakis/opt/anaconda3/envs/glGA37/lib/python3.7/site-packages/aeosa', '/Users/Giwrgakis/MyProjects/glGA-SDK/packages', '/Users/Giwrgakis/opt/anaconda3/envs/glGA37/lib/python3.7/site-packages/IPython/extensions', '/Users/Giwrgakis/.ipython']\n"
     ]
    }
   ]
  },
  {
   "cell_type": "code",
   "execution_count": 7,
   "metadata": {},
   "outputs": [
    {
     "output_type": "stream",
     "name": "stdout",
     "text": [
      "\n Entity name: RooT, type: Entity, id: 291812110366942325174898938189478629666, parent: None (root node)\n"
     ]
    }
   ],
   "source": [
    "import pyglGA.ECSS.utilities as util\n",
    "from pyglGA.ECSS.Entity import Entity\n",
    "from pyglGA.ECSS.ECSSManager import ECSSManager\n",
    "\n",
    "WorldManager = ECSSManager()\n",
    "rootEntity = WorldManager.createEntity(Entity(name=\"RooT\"))\n",
    "print(rootEntity)"
   ]
  },
  {
   "cell_type": "code",
   "execution_count": 4,
   "metadata": {},
   "outputs": [
    {
     "output_type": "stream",
     "name": "stdout",
     "text": [
      "/Users/Giwrgakis/MyProjects/glGA-SDK/packages/pyglGA/notebooks \n /Users/Giwrgakis/MyProjects/glGA-SDK/packages/pyglGA \n /Users/Giwrgakis/MyProjects/glGA-SDK/packages\n"
     ]
    }
   ],
   "source": [
    "import os\n",
    "import sys\n",
    "currentdir = os.path.abspath('.')\n",
    "parentdir = os.path.abspath('..')\n",
    "parent2dir = os.path.abspath('../..')\n",
    "#sys.path.append(parentdir)\n",
    "print(currentdir,\"\\n\", parentdir,\"\\n\", parent2dir )\n",
    "#print(sys.path)"
   ]
  },
  {
   "cell_type": "code",
   "execution_count": 25,
   "metadata": {},
   "outputs": [],
   "source": [
    "model = util.translate(0.0,0.0,0.5)\n",
    "eye = util.vec(0.0, 1.0, -1.0)\n",
    "target = util.vec(0,0,0)\n",
    "up = util.vec(0.0, 1.0, 0.0)\n",
    "view = util.lookat(eye, target, up)\n",
    "#projMat = util.frustum(-10.0, 10.0,-10.0,10.0, -1.0, 10)\n",
    "#projMat = util.perspective(45.0, 1.33, 0.1, 100.0)\n",
    "#projMat = util.ortho(-10.0, 10.0, -10.0, 10.0, -1.0, 10.0)\n",
    "projMat = util.ortho(-5.0, 5.0, -5.0, 5.0, -1.0, 5.0)\n",
    "#mvpMat = model @ view @projMat\n",
    "mvpMat =  projMat @ view @ model \n"
   ]
  },
  {
   "cell_type": "code",
   "execution_count": 26,
   "metadata": {},
   "outputs": [
    {
     "output_type": "stream",
     "name": "stdout",
     "text": [
      "model:\n [[1.  0.  0.  0. ]\n [0.  1.  0.  0. ]\n [0.  0.  1.  0.5]\n [0.  0.  0.  1. ]]\nview:\n [[ 1.          0.         -0.         -0.        ]\n [ 0.          0.70710678  0.70710678 -0.        ]\n [ 0.         -0.70710678  0.70710678  1.        ]\n [ 0.          0.          0.          1.        ]]\nprojMat:\n [[ 0.2         0.          0.         -0.        ]\n [ 0.          0.2         0.         -0.        ]\n [ 0.          0.         -0.33333333 -0.66666667]\n [ 0.          0.          0.          1.        ]]\nmvpMat:\n [[ 0.2         0.          0.          0.        ]\n [ 0.          0.14142136  0.14142136  0.07071068]\n [ 0.          0.23570226 -0.23570226 -1.11785113]\n [ 0.          0.          0.          1.        ]]\n"
     ]
    }
   ],
   "source": [
    "print('model:\\n',model)\n",
    "print('view:\\n',view)\n",
    "print('projMat:\\n',projMat)\n",
    "print('mvpMat:\\n',mvpMat)"
   ]
  },
  {
   "cell_type": "code",
   "execution_count": null,
   "metadata": {},
   "outputs": [],
   "source": []
  }
 ]
}