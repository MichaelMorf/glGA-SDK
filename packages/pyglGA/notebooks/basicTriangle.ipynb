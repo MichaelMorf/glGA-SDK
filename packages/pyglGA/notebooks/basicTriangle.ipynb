{
 "metadata": {
  "language_info": {
   "codemirror_mode": {
    "name": "ipython",
    "version": 3
   },
   "file_extension": ".py",
   "mimetype": "text/x-python",
   "name": "python",
   "nbconvert_exporter": "python",
   "pygments_lexer": "ipython3",
   "version": "3.7.9"
  },
  "orig_nbformat": 2,
  "kernelspec": {
   "name": "python3",
   "display_name": "Python 3.7.9 64-bit ('glGA37': conda)",
   "metadata": {
    "interpreter": {
     "hash": "38e56ec89d613ed1db8665747e1247bdd777b72942207e01357cfd83e328755a"
    }
   }
  }
 },
 "nbformat": 4,
 "nbformat_minor": 2,
 "cells": [
  {
   "source": [
    "# This is a basicTriangle shader-based OpenGL example\n",
    "## This notebook has been updated by Prof. George Papagiannakis as an introduction to the glGA SDK v2020.1\n",
    "### based on the supervised final year BSc project of G. Evangelou, University of Crete\n",
    "---\n"
   ],
   "cell_type": "markdown",
   "metadata": {}
  },
  {
   "source": [
    "---"
   ],
   "cell_type": "markdown",
   "metadata": {}
  },
  {
   "source": [
    "Let's import first the bare minimum python modules.\n",
    "This is:\n",
    "* pyOpenGL\n",
    "    - `pip install pyOpenGL`\n",
    "    - `pip install pyopenGL-accelerate`\n",
    "* SDL2\n",
    "    - `pip install pysdl2`\n",
    "* imgui\n",
    "    - `pip install imgui[full] `\n",
    "* numpy\n",
    "    - `conda install numpy`"
   ],
   "cell_type": "markdown",
   "metadata": {}
  },
  {
   "source": [
    "The following functions `init()` and `main()` are the very minimum starting points for *Shader-Based Computer Graphics*  programming using the OpenGL API under **Python**. \n",
    "\n",
    "As Opengl is container/GUI agnostic, we need a toolkit to generate a basic window, that is `SDL2`, to act as a container that receives the OpenGL context. Finally we need a very basic immediate-mode GUI toolkit and we illustrate the basic setup and usage of `ImGUI`.\n",
    "\n",
    "> This time we have the `initTriangle()` and `displayTriangle()` methods that allow for simple passthrough vertex and fragment shaders to be utilised. \n",
    "\n",
    "> Another new addition is the vertex array with strides that allows for vertex positions and vertex colours to be used and interpolated across the displayed Triangle.\n",
    "\n",
    "> This time the default orthographic camera projection is automatically used by the GPU pipeline, as we do not specify alternative camera transformation matrices, hence the `3D` triangle in homogenous coordinates appears as `2D` since the default orthographic camera is at 0,0,-1 looking down the -Z axis.\n",
    "\n",
    "Output of the BasicTriangle example: ![basic Triangle image](../images/basicTriangle.png \"basicTriangle image\")\n",
    "\n",
    "---"
   ],
   "cell_type": "markdown",
   "metadata": {}
  },
  {
   "source": [
    "> The *default OpenGL context* generated gets the default `2D` **orthographic/orthogonal camera projection** which is provided by the following 2D matrix transformation on the original `homogeneous` vertices so that\n",
    "\n",
    " >${P}_x$ is the projection of $x$, ${P}_y$ is the projection of $y$, ${P}_z$ is $0$, ${P}_w$ is 1,  \n",
    " >according to the formula: $${P_P}= M {P}$$\n",
    "> $$\n",
    "\\begin{bmatrix} \n",
    "\\mathbf{P_X} \\\\\n",
    "\\mathbf{P_Y} \\\\\n",
    "\\mathbf{0} \\\\\n",
    "\\mathbf{1}\n",
    "\\end{bmatrix} =\n",
    "\\begin{bmatrix}\n",
    "1 & 0 & 0 & 0 \\\\\n",
    "0 & 1 & 0 & 0 \\\\\n",
    "0 & 0 & 0 & 0 \\\\\n",
    "0 & 0 & 0 & 1 \\\\\n",
    "\\end{bmatrix} \\begin{bmatrix}\n",
    "\\mathbf{P}_x \\\\\n",
    "\\mathbf{P}_y \\\\\n",
    "\\mathbf{0} \\\\\n",
    "\\mathbf{1}\n",
    "\\end{bmatrix} \n",
    "\n",
    "\n",
    "> *However, in this example we are not transforming any coordinates. Why?*"
   ],
   "cell_type": "markdown",
   "metadata": {}
  },
  {
   "source": [],
   "cell_type": "markdown",
   "metadata": {}
  },
  {
   "cell_type": "code",
   "execution_count": 1,
   "metadata": {},
   "outputs": [
    {
     "output_type": "stream",
     "name": "stdout",
     "text": [
      "hello \n CG world\n"
     ]
    }
   ],
   "source": [
    "print(\"hello \\n CG world\")"
   ]
  },
  {
   "cell_type": "code",
   "execution_count": 2,
   "metadata": {},
   "outputs": [],
   "source": [
    "\n",
    "import ctypes\n",
    "import sys\n",
    "import numpy\n",
    "from sdl2 import *\n",
    "import sdl2.ext\n",
    "import imgui as ImGui\n",
    "from imgui.integrations.sdl2 import SDL2Renderer\n",
    "from OpenGL.GL import *\n",
    "from OpenGL.GL import shaders"
   ]
  },
  {
   "cell_type": "code",
   "execution_count": 3,
   "metadata": {},
   "outputs": [],
   "source": [
    "#some global variables before we absorb them into classes\n",
    "windowWidth     = 1024\n",
    "windowHeight    = 768\n",
    "\n",
    "shaderProgram   = None\n",
    "VAO             = None\n",
    "VBO             = None"
   ]
  },
  {
   "source": [
    "### The init() method\n",
    "#### Initialises an SDL2 window with an OpenGL state context\n"
   ],
   "cell_type": "markdown",
   "metadata": {}
  },
  {
   "cell_type": "code",
   "execution_count": 4,
   "metadata": {},
   "outputs": [],
   "source": [
    " def init():\n",
    "    \"\"\" \n",
    "    Initialises an SDL2 window with an OpenGL state context\n",
    "\n",
    "    Parameters:\n",
    "    None\n",
    "\n",
    "    Returns:\n",
    "        gWindow: the SDL2 window\n",
    "        gContext: the OpenGL context of the gWindow\n",
    "        gVersionLabel: the OpeGL Version and context info\n",
    "    \"\"\"\n",
    "\n",
    "    if SDL_Init(SDL_INIT_VIDEO | SDL_INIT_TIMER) != 0:\n",
    "        print(\"SDL could not initialize! SDL Error: \", SDL_GetError())\n",
    "        raise RuntimeError('SDL could not initialize!')\n",
    "        exit(1)\n",
    "\n",
    "    print(\"\\nYay! Initialized SDL successfully in basicTriangle!\")\n",
    "    SDL_GL_SetAttribute(SDL_GL_CONTEXT_FLAGS, SDL_GL_CONTEXT_FORWARD_COMPATIBLE_FLAG)\n",
    "    SDL_GL_SetAttribute(SDL_GL_CONTEXT_PROFILE_MASK, SDL_GL_CONTEXT_PROFILE_CORE)\n",
    "    SDL_GL_SetAttribute(SDL_GL_DOUBLEBUFFER, 1)\n",
    "    SDL_GL_SetAttribute(SDL_GL_DEPTH_SIZE, 24)\n",
    "    SDL_GL_SetAttribute(SDL_GL_STENCIL_SIZE, 8)\n",
    "    SDL_GL_SetAttribute(SDL_GL_ACCELERATED_VISUAL, 1)\n",
    "    SDL_GL_SetAttribute(SDL_GL_MULTISAMPLEBUFFERS, 1)\n",
    "    SDL_GL_SetAttribute(SDL_GL_MULTISAMPLESAMPLES, 16)\n",
    "    SDL_GL_SetAttribute(SDL_GL_CONTEXT_MAJOR_VERSION, 4) # OpenGL 4.1 version\n",
    "    SDL_GL_SetAttribute(SDL_GL_CONTEXT_MINOR_VERSION, 1)\n",
    "    \n",
    "    SDL_SetHint(SDL_HINT_MAC_CTRL_CLICK_EMULATE_RIGHT_CLICK, b\"1\")\n",
    "    SDL_SetHint(SDL_HINT_VIDEO_HIGHDPI_DISABLED, b\"1\")\n",
    "\n",
    "    # CREATE WINDOW\n",
    "    window_title = 'BasicTriangle'\n",
    "    windowWidth = 1024\n",
    "    windowHeight = 768\n",
    "    gWindow = SDL_CreateWindow(window_title.encode(), SDL_WINDOWPOS_CENTERED, SDL_WINDOWPOS_CENTERED,windowWidth, windowHeight, SDL_WINDOW_OPENGL)\n",
    "\n",
    "    if gWindow is None:\n",
    "        print(\"Window could not be created! SDL Error: \", SDL_GetError())\n",
    "        raise RuntimeError('Failed to create SDL window')\n",
    "        #exit(1)\n",
    "\n",
    "    print(\"Yay! Created window successfully in basicTriangle!\")\n",
    "    gContext = SDL_GL_CreateContext(gWindow)\n",
    "    print(\"Yay! Created OpenGL context successfully in basicTriangle!\\n\\n\")\n",
    "    \n",
    "    if gContext is None:\n",
    "        print(\"OpenGL context could not be created! SDL Error: \", SDL_GetError())\n",
    "        raise RuntimeError('OpenGL context could not be created!')\n",
    "\n",
    "    SDL_GL_MakeCurrent(gWindow, gContext)\n",
    "\n",
    "    if SDL_GL_SetSwapInterval(1) < 0:\n",
    "        print(\"Warning: Unable to set VSync! SDL Error: \" + SDL_GetError())\n",
    "        raise RuntimeError('Unable to set VSync! SDL Error:!')\n",
    "\n",
    "    gVersionLabel = 'OpenGL +', glGetString(GL_VERSION).decode() + ', GLSL', glGetString(GL_SHADING_LANGUAGE_VERSION).decode() + ', Renderer', glGetString(GL_RENDERER).decode()\n",
    "    print(gVersionLabel)\n",
    "\n",
    "    return gWindow, gContext, str(gVersionLabel)"
   ]
  },
  {
   "source": [
    "### the initTriangle() method\n",
    "#### initialises basic vertex, fragment shaders in order to display a 2D basic Triangle with orthographic projection"
   ],
   "cell_type": "markdown",
   "metadata": {}
  },
  {
   "cell_type": "code",
   "execution_count": 5,
   "metadata": {},
   "outputs": [],
   "source": [
    "def initTriangle():\n",
    "    \"\"\"\n",
    "    initialises basic vertex, fragment shaders in order to display a 2D basic Triangle with orthographic projection\n",
    "    \"\"\"\n",
    "    \n",
    "    # we want to access the three global variables for the shaders\n",
    "    global  shaderProgram\n",
    "    global  VAO\n",
    "    global  VBO\n",
    "    \n",
    "    #first we generate and then bind a VAO on the client GPU side that will contain the VBOs for the triangle\n",
    "    VAO = glGenVertexArrays(1) #id is 1\n",
    "    glBindVertexArray(VAO) #use, open VAO here\n",
    "    \n",
    "    vertexShader = shaders.compileShader(\"\"\"\n",
    "        #version 410\n",
    "        layout (location=0) in vec4 position;\n",
    "        layout (location=1) in vec4 colour;\n",
    "        out vec4 theColour;\n",
    "        void main()\n",
    "        {\n",
    "            gl_Position = position;\n",
    "            theColour = colour;\n",
    "        }\n",
    "        \"\"\", GL_VERTEX_SHADER)\n",
    "    \n",
    "    fragmentShader = shaders.compileShader(\"\"\"\n",
    "        #version 410\n",
    "        in vec4 theColour;\n",
    "        out vec4 outputColour;\n",
    "        void main()\n",
    "        {\n",
    "            outputColour = theColour;\n",
    "        }\n",
    "        \"\"\", GL_FRAGMENT_SHADER)\n",
    "    \n",
    "    #build the shaderProgram our of the two shaders\n",
    "    shaderProgram = shaders.compileProgram(vertexShader, fragmentShader)\n",
    "    \n",
    "    # create the basic vertex array containing both vertex positions as well as vertex colours\n",
    "    \n",
    "    vertexData = numpy.array(\n",
    "        [\n",
    "            #vertex positions\n",
    "            0.0, 0.0, 0.0, 1.0,\n",
    "            0.5, 1.0, 0.0, 1.0,\n",
    "            1.0, 0.0, 0.0, 1.0,\n",
    "            \n",
    "            #vertex colours\n",
    "            1.0, 0.0, 0.0, 1.0,\n",
    "            0.0, 1.0, 0.0, 1.0,\n",
    "            0.0, 0.0, 1.0, 1.0,\n",
    "        ],dtype=numpy.float32\n",
    "    )\n",
    "    \n",
    "    #create the VBO on the server memory of the GPU\n",
    "    VBO = glGenBuffers(1) #id is 1\n",
    "    glBindBuffer(GL_ARRAY_BUFFER, VBO) # use, open VBO here\n",
    "    glBufferData(GL_ARRAY_BUFFER, vertexData.nbytes, vertexData, GL_STATIC_DRAW)\n",
    "    #enable strides vertex array for both positions (first) and colours (subsequently, after first bytes)\n",
    "    glEnableVertexAttribArray(0) #id is 0\n",
    "    glVertexAttribPointer(0,4,GL_FLOAT, GL_FALSE, 0, None) #how to fill in the vertex array\n",
    "    #second colours array\n",
    "    glEnableVertexAttribArray(1) #id is 1\n",
    "    glVertexAttribPointer(1, 4, GL_FLOAT, GL_FALSE, 0, ctypes.c_void_p(48)) #float32 is 4 bytes, 12 floats as vertices * 4 = 48 bytes\n",
    "    \n",
    "    glBindBuffer(GL_ARRAY_BUFFER,0) #close VBO here\n",
    "    # Only one VAO can be bound at a time, so disable it to avoid altering it accidentally\n",
    "    glBindVertexArray(0) # close VAO\n",
    "    \n",
    "    print(\"Yay! Created shaderProgram, VAO and VBO in basicTriangle!\\n\\n\")\n",
    "    return shaderProgram, VAO, VBO"
   ]
  },
  {
   "source": [
    "### the displayTriangle() method\n",
    "#### Uses the previously created shader program, binds the VAO on the client side and draws using triangles\n",
    "#### called in every frame, from inside the rendering loop"
   ],
   "cell_type": "markdown",
   "metadata": {}
  },
  {
   "cell_type": "code",
   "execution_count": 6,
   "metadata": {},
   "outputs": [],
   "source": [
    "def displayTriangle():\n",
    "    \"\"\"\n",
    "    Uses the previously created shader program, binds the VAO on the client side and draws using triangles\n",
    "    called in every frame, from inside the rendering loop\n",
    "    \"\"\"\n",
    "    global shaderProgram\n",
    "    global VAO\n",
    "    glClearColor(0, 0, 0.3, 1)\n",
    "    glClear(GL_COLOR_BUFFER_BIT | GL_DEPTH_BUFFER_BIT)\n",
    "\n",
    "    # active shader program\n",
    "    glUseProgram(shaderProgram)\n",
    "\n",
    "    try:\n",
    "        glBindVertexArray(VAO)\n",
    "        # glPolygonMode(GL_FRONT_AND_BACK,GL_LINE)\n",
    "        # draw triangle\n",
    "        glDrawArrays(GL_TRIANGLES, 0, 3)\n",
    "    finally:\n",
    "        glBindVertexArray(0)\n",
    "        glUseProgram(0)"
   ]
  },
  {
   "source": [
    "### the main() method\n",
    "#### Uses the previously created shader program, binds the VAO on the client side and draws using triangles\n",
    "#### This loop re-draws a shader-based Triangle, the ImGUI sample window in immediate mode and finally swaps the SDL2 double buffer windows"
   ],
   "cell_type": "markdown",
   "metadata": {}
  },
  {
   "source": [
    "def main():\n",
    "    \"\"\"\n",
    "    The main method that after calling init() it starts the main rendering loop.\n",
    "    This loop re-draws a shader-based Triangle, the ImGUI sample window in immediate mode and finally swaps the SDL2 double buffer windows\n",
    "    \"\"\"\n",
    "    \n",
    "    gWindow, gContext, gVersionLabel = init()\n",
    "    #ImGui.create_default_context(purpose=Purpose.SERVER_AUTH, cafile=None, capath=None, cadata=None)\n",
    "    imguiContext = ImGui.create_context()\n",
    "    \n",
    "    if imguiContext is None:\n",
    "        print(\"Window could not be created! ImGUI Error: \")\n",
    "        exit(1)\n",
    "    else:\n",
    "        print(\"Yay! ImGUI context created successfully\")\n",
    "        \n",
    "    renderer = SDL2Renderer(gWindow)\n",
    "    \n",
    "    # Enable depth test\n",
    "    glEnable(GL_DEPTH_TEST)\n",
    "    # Accept fragment if it closer to the camera than the former one\n",
    "    glDepthFunc(GL_LESS)\n",
    "    # Setup GL shaders, data, etc.\n",
    "    initTriangle()\n",
    "\n",
    "    running = True\n",
    "    # MAIN LOOP\n",
    "    while running:\n",
    "        events = sdl2.ext.get_events()\n",
    "        for event in events:\n",
    "            if event.type == SDL_KEYDOWN:\n",
    "                if event.key.keysym.sym == SDLK_ESCAPE:\n",
    "                    running = False\n",
    "            if event.type == SDL_QUIT:\n",
    "                running = False\n",
    "            renderer.process_event(event)\n",
    "        renderer.process_inputs()\n",
    "\n",
    "        glClearColor(0.0, 0.0, 0.0, 1)\n",
    "        glClear(GL_COLOR_BUFFER_BIT)\n",
    "\n",
    "        ImGui.set_next_window_size(300.0, 150.0)\n",
    "        # start new frame context\n",
    "        ImGui.new_frame()\n",
    "        # open new window context\n",
    "        ImGui.begin(\"Our first window!\", True)\n",
    "        # draw text label inside of current window\n",
    "        ImGui.text(\"PyImgui + PySDL2 integration successful!\")\n",
    "        ImGui.text(gVersionLabel)\n",
    "        # close current window context\n",
    "        ImGui.end()\n",
    "        \n",
    "        #render the shader-based triangle in each frame, before any ImGUI widget\n",
    "        displayTriangle()\n",
    "        \n",
    "        # pass all ImGUI drawing commands to the rendering pipeline\n",
    "        # and close ImGUI frame context\n",
    "        ImGui.render() #always draw last ImGUI\n",
    "        renderer.render(ImGui.get_draw_data())\n",
    "\n",
    "        SDL_GL_SwapWindow(gWindow)\n",
    "    # CLOSING\n",
    "    renderer.shutdown()\n",
    "    SDL_GL_DeleteContext(gContext)\n",
    "    SDL_DestroyWindow(gWindow)\n",
    "    SDL_Quit()"
   ],
   "cell_type": "code",
   "metadata": {},
   "execution_count": 7,
   "outputs": []
  },
  {
   "source": [
    "---\n",
    "\n",
    "and now we are ready to execute the example by calling `main()` which first calls `init()`. \n",
    "\n",
    "Don't forget to also run `python -m unittest` in the same folder to run all the * unit Tests* for the **basicWindow** example.\n",
    "\n",
    "---"
   ],
   "cell_type": "markdown",
   "metadata": {}
  },
  {
   "cell_type": "code",
   "execution_count": 8,
   "metadata": {},
   "outputs": [
    {
     "output_type": "stream",
     "name": "stdout",
     "text": [
      "\nYay! Initialized SDL successfully in basicTriangle!\nYay! Created window successfully in basicTriangle!\nYay! Created OpenGL context successfully in basicTriangle!\n\n\n('OpenGL +', '4.1 ATI-3.10.18, GLSL', '4.10, Renderer', 'AMD Radeon Pro 5500M OpenGL Engine')\nYay! ImGUI context created successfully\nYay! Created shaderProgram, VAO and VBO in basicTriangle!\n\n\n"
     ]
    }
   ],
   "source": [
    "if __name__ == \"__main__\":\n",
    "    main()"
   ]
  },
  {
   "source": [
    "*unit testing*\n",
    "* To run unit tests, please execute `python -m unittest` at the same directory as this file* "
   ],
   "cell_type": "markdown",
   "metadata": {}
  },
  {
   "source": [
    "##### Code snippet tests"
   ],
   "cell_type": "markdown",
   "metadata": {}
  },
  {
   "cell_type": "code",
   "execution_count": 11,
   "metadata": {},
   "outputs": [
    {
     "output_type": "stream",
     "name": "stdout",
     "text": [
      "vertexData.shape: (3, 4)\ndata before:  [[0.  0.  0.  1. ]\n [0.5 1.  0.  1. ]\n [1.  0.  0.  1. ]]\ndata after:  [[0.  0.  0.  1. ]\n [0.5 1.  0.  1. ]\n [1.  0.  0.  1. ]]\ndata.shape: (3, 4)\nnb_primitives:3, size:4, data.shape:(3, 4)\n"
     ]
    }
   ],
   "source": [
    "import numpy as np\n",
    "from typing import List\n",
    "\n",
    "vertexData = np.array([\n",
    "            [0.0, 0.0, 0.0, 1.0],\n",
    "            [0.5, 1.0, 0.0, 1.0],\n",
    "            [1.0, 0.0, 0.0, 1.0]\n",
    "        ],dtype=np.float,order='F') \n",
    "\n",
    "print(\"vertexData.shape:\", vertexData.shape)\n",
    "\n",
    "attributes = list()\n",
    "attributes.append(vertexData)\n",
    "for loc, data in enumerate(attributes):\n",
    "    if data is not None:\n",
    "        print(\"data before: \",data)\n",
    "        data = np.array(data, np.float32, copy=False)\n",
    "        print(\"data after: \",data)\n",
    "        print(\"data.shape:\", data.shape)\n",
    "        nb_primitives, size = data.shape\n",
    "        print(f'nb_primitives:{nb_primitives}, size:{size}, data.shape:{data.shape}')\n",
    "                "
   ]
  },
  {
   "cell_type": "code",
   "execution_count": null,
   "metadata": {},
   "outputs": [],
   "source": []
  }
 ]
}