{
 "cells": [
  {
   "cell_type": "markdown",
   "metadata": {},
   "source": [
    "# This is a general Jupyter notebook for Computer Graphics modules in Visual Code\n",
    "## Introduction\n",
    "this is a jupyter notebook fully authored in inside visual Code!\n",
    "<b>and it works well!\n",
    "- this is bullet one!\n",
    "> this is quote\n",
    ">> this is double quote"
   ]
  },
  {
   "cell_type": "code",
   "execution_count": null,
   "metadata": {
    "tags": []
   },
   "outputs": [],
   "source": [
    "# Hello Jupyter as python comment!\n",
    "# this is another text!\n",
    "import numpy as np\n",
    "msg = 'hello GL \\n Jupyter world!'\n",
    "print(msg)"
   ]
  },
  {
   "cell_type": "code",
   "execution_count": 1,
   "metadata": {},
   "outputs": [
    {
     "output_type": "execute_result",
     "data": {
      "text/plain": [
       "['/Users/Giwrgakis/MyProjects/glGA-SDK/notebooks/pyCG/RealTimeRendering/introToPyCG',\n",
       " '/Users/Giwrgakis/.vscode/extensions/ms-toolsai.jupyter-2021.5.702919634/pythonFiles',\n",
       " '/Users/Giwrgakis/.vscode/extensions/ms-toolsai.jupyter-2021.5.702919634/pythonFiles',\n",
       " '/Users/Giwrgakis/.vscode/extensions/ms-toolsai.jupyter-2021.5.702919634/pythonFiles/lib/python',\n",
       " '/Users/Giwrgakis/opt/anaconda3/envs/glGA37/lib/python37.zip',\n",
       " '/Users/Giwrgakis/opt/anaconda3/envs/glGA37/lib/python3.7',\n",
       " '/Users/Giwrgakis/opt/anaconda3/envs/glGA37/lib/python3.7/lib-dynload',\n",
       " '',\n",
       " '/Users/Giwrgakis/opt/anaconda3/envs/glGA37/lib/python3.7/site-packages',\n",
       " '/Users/Giwrgakis/opt/anaconda3/envs/glGA37/lib/python3.7/site-packages/aeosa',\n",
       " '/Users/Giwrgakis/MyProjects/glGA-SDK/packages',\n",
       " '/Users/Giwrgakis/opt/anaconda3/envs/glGA37/lib/python3.7/site-packages/IPython/extensions',\n",
       " '/Users/Giwrgakis/.ipython']"
      ]
     },
     "metadata": {},
     "execution_count": 1
    }
   ],
   "source": [
    "import sys\n",
    "sys.path"
   ]
  },
  {
   "cell_type": "markdown",
   "metadata": {},
   "source": [
    "## Test python system path below:"
   ]
  },
  {
   "cell_type": "code",
   "execution_count": 1,
   "metadata": {
    "tags": []
   },
   "outputs": [
    {
     "output_type": "stream",
     "name": "stdout",
     "text": [
      "/Users/Giwrgakis/MyProjects/glGA-SDK/notebooks/pyCG/RealTimeRendering/introToPyCG\n/Users/Giwrgakis/.vscode/extensions/ms-toolsai.jupyter-2021.3.619093157/pythonFiles/vscode_datascience_helpers/../.does-not-exist\n/Users/Giwrgakis/.vscode/extensions/ms-toolsai.jupyter-2021.3.619093157/pythonFiles\n/Users/Giwrgakis/.vscode/extensions/ms-toolsai.jupyter-2021.3.619093157/pythonFiles/lib/python\n/Users/Giwrgakis/opt/anaconda3/envs/glGA37/lib/python37.zip\n/Users/Giwrgakis/opt/anaconda3/envs/glGA37/lib/python3.7\n/Users/Giwrgakis/opt/anaconda3/envs/glGA37/lib/python3.7/lib-dynload\n\n/Users/Giwrgakis/opt/anaconda3/envs/glGA37/lib/python3.7/site-packages\n/Users/Giwrgakis/opt/anaconda3/envs/glGA37/lib/python3.7/site-packages/aeosa\n/Users/Giwrgakis/MyProjects/glGA-SDK/packages\n/Users/Giwrgakis/opt/anaconda3/envs/glGA37/lib/python3.7/site-packages/IPython/extensions\n/Users/Giwrgakis/.ipython\n"
     ]
    }
   ],
   "source": [
    "import sys\n",
    "for p in sys.path:\n",
    "\tprint(p)"
   ]
  },
  {
   "cell_type": "code",
   "execution_count": 3,
   "metadata": {},
   "outputs": [
    {
     "output_type": "stream",
     "name": "stdout",
     "text": [
      "hello from f()\n"
     ]
    }
   ],
   "source": [
    "def f():\n",
    "    print(\"hello from f()\")\n",
    "\n",
    "def y(f):\n",
    "    f\n",
    "    print(\"hello from y()\")\n",
    "\n",
    "y(f())"
   ]
  },
  {
   "cell_type": "markdown",
   "metadata": {},
   "source": [
    "## pyAssimp package test\n",
    "@@@"
   ]
  },
  {
   "cell_type": "code",
   "execution_count": null,
   "metadata": {
    "tags": []
   },
   "outputs": [],
   "source": [
    "import os\n",
    "import sys\n",
    "print (os.name)\n",
    "#print (sys.path)\n",
    "\n",
    "from pyassimp import * #the pip pyassimp module\n",
    "#from assimp import * # the conda assimp module\n",
    "#import assimp\n",
    "#import pyassimp\n",
    "scene = load('./box.fbx')\n",
    "assert len(scene.meshes)\n",
    "mesh = scene.meshes[0]\n",
    "\n",
    "assert len(mesh.vertices)\n",
    "print(mesh.vertices[0])\n",
    "for c in scene.rootnode.children:\n",
    "    print(str(c))\n",
    "\n",
    "# don't forget this one, or you will leak!\n",
    "release(scene)"
   ]
  },
  {
   "cell_type": "markdown",
   "metadata": {},
   "source": [
    "## pyIMGUI package test\n",
    "@@@\n"
   ]
  },
  {
   "cell_type": "code",
   "execution_count": null,
   "metadata": {},
   "outputs": [],
   "source": [
    "\"\"\"\n",
    "# example pyIMGUI access\n",
    "# API seems like working, maybe not inside Jupyter or wrong render loop\n",
    "import imgui\n",
    "\n",
    "#init context\n",
    "imgui.create_context()\n",
    "imgui.get_io().display_size = 100,100\n",
    "# imgui.show_demo_window()\n",
    "imgui.get_io().fonts.get_tex_data_as_rgba32()\n",
    "\n",
    "#imgui.text(\"Hello, world %d\", 123)\n",
    "\n",
    "# start new frame context\n",
    "imgui.new_frame()\n",
    "\n",
    "# open new window context\n",
    "imgui.begin(\"Your first window!\", True)\n",
    "\n",
    "# draw text label inside of current window\n",
    "imgui.text(\"Hello world!\")\n",
    "\n",
    "# close current window context\n",
    "imgui.end()\n",
    "\n",
    "# pass all drawing comands to the rendering pipeline\n",
    "# and close frame context\n",
    "i=1\n",
    "while i>0:\n",
    "    imgui.render()\n",
    "    imgui.end_frame()\n",
    "\"\"\""
   ]
  },
  {
   "cell_type": "markdown",
   "metadata": {},
   "source": [
    "## another pyimgui and pySDL2 example"
   ]
  },
  {
   "cell_type": "code",
   "execution_count": null,
   "metadata": {
    "tags": []
   },
   "outputs": [],
   "source": [
    "%run ../pyglGA/basicWindow.py\n"
   ]
  },
  {
   "cell_type": "markdown",
   "metadata": {},
   "source": [
    "## pySDL2 package test\n",
    "directly from the github examples"
   ]
  },
  {
   "cell_type": "code",
   "execution_count": null,
   "metadata": {},
   "outputs": [],
   "source": [
    "# sample pySDL2 access\n",
    "import sys\n",
    "import ctypes\n",
    "\n",
    "from OpenGL import GL, GLU\n",
    "import sdl2\n",
    "\n",
    "def run():\n",
    "    if sdl2.SDL_Init(sdl2.SDL_INIT_VIDEO) != 0:\n",
    "        print(sdl2.SDL_GetError())\n",
    "        return -1\n",
    "\n",
    "    window = sdl2.SDL_CreateWindow(b\"OpenGL demo\",\n",
    "                                   sdl2.SDL_WINDOWPOS_UNDEFINED,\n",
    "                                   sdl2.SDL_WINDOWPOS_UNDEFINED, 800, 600,\n",
    "                                   sdl2.SDL_WINDOW_OPENGL)\n",
    "    if not window:\n",
    "        print(sdl2.SDL_GetError())\n",
    "        return -1\n",
    "\n",
    "    context = sdl2.SDL_GL_CreateContext(window)\n",
    "\n",
    "    GL.glMatrixMode(GL.GL_PROJECTION | GL.GL_MODELVIEW)\n",
    "    GL.glLoadIdentity()\n",
    "    GL.glOrtho(-400, 400, 300, -300, 0, 1)\n",
    "\n",
    "    x = 0.0\n",
    "    y = 30.0\n",
    "\n",
    "    event = sdl2.SDL_Event()\n",
    "    running = True\n",
    "    while running:\n",
    "        while sdl2.SDL_PollEvent(ctypes.byref(event)) != 0:\n",
    "            if event.type == sdl2.SDL_QUIT:\n",
    "                running = False\n",
    "\n",
    "        GL.glClearColor(0, 0, 0, 1)\n",
    "        GL.glClear(GL.GL_COLOR_BUFFER_BIT)\n",
    "        GL.glRotatef(10.0, 0.0, 0.0, 1.0)\n",
    "        GL.glBegin(GL.GL_TRIANGLES)\n",
    "        GL.glColor3f(1.0, 0.0, 0.0)\n",
    "        GL.glVertex2f(x, y + 90.0)\n",
    "        GL.glColor3f(0.0, 1.0, 0.0)\n",
    "        GL.glVertex2f(x + 90.0, y - 90.0)\n",
    "        GL.glColor3f(0.0, 0.0, 1.0)\n",
    "        GL.glVertex2f(x - 90.0, y - 90.0)\n",
    "        GL.glEnd()\n",
    "\n",
    "        sdl2.SDL_GL_SwapWindow(window)\n",
    "        sdl2.SDL_Delay(10)\n",
    "    sdl2.SDL_GL_DeleteContext(context)\n",
    "    sdl2.SDL_DestroyWindow(window)\n",
    "    sdl2.SDL_Quit()\n",
    "    return 0\n",
    "\n",
    "run()\n"
   ]
  },
  {
   "cell_type": "markdown",
   "metadata": {},
   "source": [
    "## igl package test\n",
    "@@@"
   ]
  },
  {
   "cell_type": "code",
   "execution_count": null,
   "metadata": {},
   "outputs": [],
   "source": [
    "# sample igl access\n",
    "import sys, os\n",
    "\n",
    "# Add the igl library to the modules search path\n",
    "sys.path.insert(0, os.getcwd() + \"/../\")\n",
    "#import pyigl as igl\n",
    "import igl\n",
    "\n",
    "#from shared import TUTORIAL_SHARED_PATH, check_dependencies\n",
    "\n",
    "#dependencies = [\"glfw\"]\n",
    "#check_dependencies(dependencies)\n",
    "\n",
    "# Load a mesh in OFF format\n",
    "V = igl.eigen.MatrixXd()\n",
    "F = igl.eigen.MatrixXi()\n",
    "igl.readOFF(TUTORIAL_SHARED_PATH + \"Cube.off\", V, F)\n",
    "\n",
    "# Plot the mesh\n",
    "viewer = igl.glfw.Viewer()\n",
    "viewer.data().set_mesh(V, F)\n",
    "viewer.launch()"
   ]
  },
  {
   "cell_type": "code",
   "execution_count": null,
   "metadata": {},
   "outputs": [],
   "source": [
    "# another sample from tutorial\n",
    "import igl\n",
    "import scipy as sp\n",
    "import numpy as np\n",
    "from meshplot import plot, subplot, interact\n",
    "\n",
    "import os\n",
    "# root_folder = os.getcwd()\n",
    "root_folder = os.path.join(os.getcwd(), \"tutorial\")\n",
    "V = np.array([\n",
    "    [0., 0, 0],\n",
    "    [1, 0, 0],\n",
    "    [1, 1, 1],\n",
    "    [2, 1, 0]\n",
    "])\n",
    "\n",
    "F = np.array([\n",
    "    [0, 1, 2],\n",
    "    [1, 3, 2]\n",
    "])\n",
    "\n",
    "plot(V, F)"
   ]
  },
  {
   "cell_type": "markdown",
   "metadata": {},
   "source": [
    "## Clifford GA test\n",
    "@@@"
   ]
  },
  {
   "cell_type": "code",
   "execution_count": null,
   "metadata": {},
   "outputs": [],
   "source": [
    "# sample clifford access\n",
    "from clifford.g3 import *  # import GA for 3D space\n",
    "from math import e, pi\n",
    "a = e1 + 2*e2 + 3*e3 # vector \n",
    "R = e**(pi/4*e12)    # rotor \n",
    "R*a*~R    # rotate the vector  "
   ]
  },
  {
   "cell_type": "markdown",
   "metadata": {},
   "source": [
    "## galgebra test"
   ]
  },
  {
   "cell_type": "code",
   "execution_count": null,
   "metadata": {},
   "outputs": [],
   "source": [
    "from sympy import symbols\n",
    "from galgebra.ga import Ga\n",
    "\n",
    "from galgebra.printer import Format\n",
    "Format(Fmode = False, Dmode = True)\n",
    "\n",
    "st4coords = (t,x,y,z) = symbols('t x y z', real=True)\n",
    "st4 = Ga('e',\n",
    "         g=[1,-1,-1,-1],\n",
    "         coords=st4coords)\n",
    "\n",
    "M = st4.mv('M','mv',f = True)\n",
    "\n",
    "M.grade(3).Fmt(3,r'\\langle \\mathbf{M} \\rangle _3')"
   ]
  },
  {
   "cell_type": "markdown",
   "metadata": {},
   "source": [
    "## pyGLM package test\n",
    "https://github.com/Zuzu-Typ/PyGLM/blob/master/wiki/function-reference/README.md "
   ]
  },
  {
   "cell_type": "code",
   "execution_count": 4,
   "metadata": {
    "tags": []
   },
   "outputs": [
    {
     "output_type": "stream",
     "name": "stdout",
     "text": [
      "vec4(            2,            2,            0,            1 )\nv: vec4(            2,            2,            0,            1 )\nnorm_v: vec4(     0.666667,     0.666667,            0,     0.333333 )\n\n------ Matrices test ------- \n\n\nmat1 mat4:\n[            1 |            0 |            0 |            0 ]\n[            0 |            1 |            0 |            0 ]\n[            0 |            0 |            1 |            0 ]\n[          -10 |           10 |           10 |            1 ]\n\nrotMat mat4:\n[     0.333333 |    -0.244017 |     0.910684 |            0 ]\n[     0.910684 |     0.333333 |    -0.244017 |            0 ]\n[    -0.244017 |     0.910684 |     0.333333 |            0 ]\n[            0 |            0 |            0 |            1 ]\n\nmatLookAt:\n[    -0.707107 |    -0.408248 |     -0.57735 |            0 ]\n[            0 |     0.816497 |     -0.57735 |            0 ]\n[     0.707107 |    -0.408248 |     -0.57735 |            0 ]\n[           -0 |           -0 |            1 |            1 ]\n\nmatLookAt transpose:\n[    -0.707107 |            0 |     0.707107 |           -0 ]\n[    -0.408248 |     0.816497 |    -0.408248 |           -0 ]\n[     -0.57735 |     -0.57735 |     -0.57735 |            1 ]\n[            0 |            0 |            0 |            1 ]\n\n------ Quaternions test ------- \n\n\nq3 slerp:  quat(     0.629002,     0.348973,     0.442316,     0.535659 ) with w:  0.629002034664154\n\nqq2:  quat(    -0.182574,     0.547723,     0.365148,     0.730297 )\nqq2.w:  -0.18257418274879456\n\ntransmat mat4:\n[            1 |            0 |            0 |            0 ]\n[            0 |            1 |            0 |            0 ]\n[            0 |            0 |            1 |            0 ]\n[           10 |           20 |           30 |            1 ]\n\ntransmat mat4 transpose:\n[            1 |            0 |            0 |           10 ]\n[            0 |            1 |            0 |           20 ]\n[            0 |            0 |            1 |           30 ]\n[            0 |            0 |            0 |            1 ]\n\northoMat:\n[         0.01 |            0 |            0 |            0 ]\n[            0 |         0.01 |            0 |            0 ]\n[            0 |            0 |    -0.020202 |            0 ]\n[           -0 |           -0 |      -1.0202 |            1 ]\n\northoMat trans:\n[         0.01 |            0 |            0 |           -0 ]\n[            0 |         0.01 |            0 |           -0 ]\n[            0 |            0 |    -0.020202 |      -1.0202 ]\n[            0 |            0 |            0 |            1 ]\n\nperspMat:\n[       1.8152 |            0 |            0 |            0 ]\n[            0 |      2.41421 |            0 |            0 ]\n[            0 |            0 |       -1.002 |           -1 ]\n[            0 |            0 |      -0.2002 |            0 ]\n\nperspMat trans:\n[       1.8152 |            0 |            0 |            0 ]\n[            0 |      2.41421 |            0 |            0 ]\n[            0 |            0 |       -1.002 |      -0.2002 ]\n[            0 |            0 |           -1 |            0 ]\n\nperspMat2:\n[            1 |            0 |            0 |            0 ]\n[            0 |            1 |            0 |            0 ]\n[            0 |            0 |      -1.0202 |           -1 ]\n[            0 |            0 |     -0.20202 |            0 ]\n\nperspMat2 trans:\n[            1 |            0 |            0 |            0 ]\n[            0 |            1 |            0 |            0 ]\n[            0 |            0 |      -1.0202 |     -0.20202 ]\n[            0 |            0 |           -1 |            0 ]\n\nfrustumMat:\n[         0.01 |            0 |            0 |            0 ]\n[            0 |         0.01 |            0 |            0 ]\n[            0 |            0 |       -1.002 |           -1 ]\n[            0 |            0 |      -0.2002 |            0 ]\n\nfrustumMat trans:\n[         0.01 |            0 |            0 |            0 ]\n[            0 |         0.01 |            0 |            0 ]\n[            0 |            0 |       -1.002 |      -0.2002 ]\n[            0 |            0 |           -1 |            0 ]\n\nlookat:\n[            1 |            0 |            0 |            0 ]\n[            0 |            1 |            0 |            0 ]\n[            0 |            0 |            1 |            0 ]\n[           -0 |           -0 |            1 |            1 ]\n\nlookat trans:\n[            1 |            0 |            0 |           -0 ]\n[            0 |            1 |            0 |           -0 ]\n[            0 |            0 |            1 |            1 ]\n[            0 |            0 |            0 |            1 ]\n"
     ]
    }
   ],
   "source": [
    "# sample GLM access\n",
    "import glm\n",
    "import math\n",
    "v = glm.vec4(1,2,0,1)\n",
    "v.x = 2\n",
    "print(v.xyzw)\n",
    "print(\"v:\",v)\n",
    "norm_v = glm.normalize(v)\n",
    "#len_v = math.sqrt(v.to_list*v.to_list)\n",
    "#print(\"len_v:\", norm_v)\n",
    "print(\"norm_v:\", norm_v)\n",
    "transMat = glm.mat4(1.0)\n",
    "rotMat = glm.mat4(1.0)\n",
    "mat1 = glm.mat4(1., 0., 0., 0.,\n",
    "                    0., 1., 0., 0.,\n",
    "                    0., 0., 1., 0.,\n",
    "                    -10., 10., 10., 1.)\n",
    "axis = glm.vec3(1.0,1.0,1.0)\n",
    "angle = 90\n",
    "rotMat = glm.rotate(glm.mat4(), glm.radians(angle), axis)\n",
    "eye = glm.vec3(1.0, 1.0, 1.0)\n",
    "target = glm.vec3(10,10,10)\n",
    "up = glm.vec3(0.0, 1.0, 0.0)\n",
    "matLookAt = glm.lookAtLH(glm.normalize(eye), glm.normalize(target), glm.normalize(up))\n",
    "print(\"\\n------ Matrices test ------- \\n\")\n",
    "print(\"\\nmat1 mat4:\")\n",
    "print(mat1)\n",
    "print(\"\\nrotMat mat4:\")\n",
    "print(glm.transpose(rotMat))\n",
    "print(\"\\nmatLookAt:\")\n",
    "print(matLookAt)\n",
    "print(\"\\nmatLookAt transpose:\")\n",
    "print(glm.transpose(matLookAt))\n",
    "print(\"\\n------ Quaternions test ------- \\n\")\n",
    "# remember GLM is scalar first on quats i.e. q = w, x, y, z\n",
    "#q = glm.quat_cast(mat1)\n",
    "q = glm.quat(1.0,1.0,1.0,1.0)\n",
    "q2 = glm.quat(4.0,1.0,2.0,3.0)\n",
    "q3 = glm.slerp(glm.normalize(q),glm.normalize(q2),0.5)\n",
    "\n",
    "print(\"\\nq3 slerp: \",glm.normalize(q3), \"with w: \", q3.w)\n",
    "qq2 = glm.normalize(q*q2)\n",
    "print(\"\\nqq2: \",qq2)\n",
    "print(\"qq2.w: \",qq2.w)\n",
    "transMat = glm.translate(glm.mat4(1.0), glm.vec3(10.,20.,30.))\n",
    "print(\"\\ntransmat mat4:\")\n",
    "print(transMat)\n",
    "print(\"\\ntransmat mat4 transpose:\")\n",
    "print(glm.transpose(transMat))\n",
    "#glm.ortho(left: float, right: float, bottom: float, top: float, zNear: float, zFar: float)\n",
    "orthoMat = glm.ortho(-100.0, 100.0, -100.0, 100.0, 1.0, 100.0)\n",
    "print(\"\\northoMat:\")\n",
    "print(orthoMat)\n",
    "print(\"\\northoMat trans:\")\n",
    "print(glm.transpose(orthoMat))\n",
    "# lm.perspective(fovy: float, aspect: float, near: float, far: float) -> fmat4x4\n",
    "#glm.perspectiveFov(fov: float, width: float, height: float, near: float, far: float) -> fmat4x4\n",
    "\n",
    "#perspMat = glm.perspectiveFov(90.0, 512, 512, 0.1, 100)\n",
    "perspMat = glm.perspective(glm.radians(45.0), 1.33, 0.1, 100)\n",
    "print(\"\\nperspMat:\")\n",
    "print(perspMat)\n",
    "print(\"\\nperspMat trans:\")\n",
    "print(glm.transpose(perspMat))\n",
    "perspMat2 = glm.perspective(glm.radians(90.0), 1, 0.1, 10)\n",
    "print(\"\\nperspMat2:\")\n",
    "print(perspMat2)\n",
    "print(\"\\nperspMat2 trans:\")\n",
    "print(glm.transpose(perspMat2))\n",
    "\n",
    "#glm.frustum(left: float, right: float, bottom: float, top: float, near: float, far: float) -> fmat4x4\n",
    "frustumMat = glm.frustum(-10.0, 10.0,-10.0,10.0, 0.1, 100)\n",
    "print(\"\\nfrustumMat:\")\n",
    "print(frustumMat)\n",
    "print(\"\\nfrustumMat trans:\")\n",
    "print(glm.transpose(frustumMat))\n",
    "\n",
    "eye = glm.vec3(0.0, 0.0, -1.0)\n",
    "target = glm.vec3(0.0, 0.0, 0.0)\n",
    "up = glm.vec3(0.0, 1.0, 0.0)\n",
    "lookat = glm.lookAtLH(eye, target, up)\n",
    "print(\"\\nlookat:\")\n",
    "print(lookat)\n",
    "print(\"\\nlookat trans:\")\n",
    "print(glm.transpose(lookat))\n"
   ]
  },
  {
   "cell_type": "code",
   "execution_count": null,
   "metadata": {
    "tags": []
   },
   "outputs": [],
   "source": [
    "#dir(help(glm))\n",
    "#help(glm.dquat)\n",
    "print(\"\\n------ Dual Quaternions tests ------- \\n\")\n",
    "src_q1 = glm.quat(1.0,2.0,3.0,4.0) # real part\n",
    "src_q2 = glm.quat(5.0,6.0,7.0,8.0) # real part\n",
    "#dual_q = glm.(src_q1,src_q2)\n",
    "#dual_q= glm.normalize(dual_q)\n",
    "\n"
   ]
  },
  {
   "cell_type": "code",
   "execution_count": null,
   "metadata": {},
   "outputs": [],
   "source": [
    "#help(glm.rotate)\n",
    "help(glm.quat)"
   ]
  },
  {
   "cell_type": "markdown",
   "metadata": {},
   "source": [
    "## numpy test"
   ]
  },
  {
   "cell_type": "code",
   "execution_count": null,
   "metadata": {},
   "outputs": [],
   "source": [
    "import numpy as np\n",
    "from numpy.linalg import inv\n",
    "import math\n",
    "\n",
    "M1 = np.identity(4)\n",
    "F3 = np.identity(4)\n",
    "M2 = np.array([\n",
    "    [1,0,0,1],\n",
    "    [0,1,0,2],\n",
    "    [0,0,1,3],\n",
    "    [0,0,0,1]\n",
    "])\n",
    "T = np.array([\n",
    "                [1],\n",
    "                [2],\n",
    "                [3],\n",
    "                [1]\n",
    "            ])\n",
    "\n",
    "Row = np.array(\n",
    "    [1, 2, 3, 1]\n",
    ")\n",
    "Row2 = np.array((1, 2, 3, 1))\n",
    "Row3 = np.array([1, 2, 3, 1], dtype=np.float,order='F')\n",
    "\n",
    "cVec = np.identity(4)\n",
    "#Row = Row.reshape(4,1)\n",
    "#Row = Row.transpose()\n",
    "print(f\"F3 shape: {F3.shape}\")\n",
    "F3 = M2 @ T\n",
    "print(\"F3=M2@T: \\n\",F3)\n",
    "print(\"M1: \\n\",M1)\n",
    "print(\"M2: \\n\",M2)\n",
    "print(\"M2 inverse: \\n\",inv(M2))\n",
    "print(\"T: \\n\",T)\n",
    "print(f\"M1 @ F3: \\n {M1 @ F3}\")\n",
    "print(f\"T shape: {T.shape}\")\n",
    "print(f\"M2 shape: {M2.shape}\")\n",
    "print(f\"M2 * T: \\n {M2 @ T}\")\n",
    "print(f\"Row shape: {Row.shape}\")\n",
    "print(\"Row: \\n\", Row)\n",
    "print(f\"Row2 shape: {Row2.shape}\")\n",
    "print(\"Row2: \\n\", Row2)\n",
    "print(f\"Row3 shape: {Row3.shape}\")\n",
    "print(\"Row3: \\n\", Row3)\n",
    "print(f\"Row @ T: \\n {Row @ T}\")\n",
    "cVec = M2[:3, 3] #2D array slicing: three rows, third column\n",
    "print(f\"cVec: \\n {cVec}\")\n",
    "print(f\"M2[]: {M2[2,3]}\") #[row, column]\n",
    "print(f\"T[]: {T[2,0]}\") #[row, column]\n",
    "#print(f\"T @ Row: \\n {T @ Row}\") # cannot perform this matrix multiplication\n",
    "print(f\"cos[0]: {glm.cos(glm.radians(0))}\")\n",
    "print(f\"cos[90]: {glm.cos(glm.radians(90.0))}\")\n",
    "print(f\"cos[90]: {round(glm.cos(np.pi/2))}\")\n",
    "print(f\"cos[90] math: {math.cos(np.pi/2)}\")\n",
    "print(f\"cos[pi/4]: {glm.cos(glm.radians(45.0))}\")\n",
    "print(f\"sin[0]: {glm.sin(0)}\")\n",
    "print(f\"sin[90]: {glm.sin(glm.radians(90))}\")\n",
    "print(\"pi in degrees is: \", glm.degrees(np.pi))\n",
    "x, y, z = np.array([1.0, 2.0, 3.0])\n",
    "print(f'{x},{y},{z}')\n",
    "\n",
    "TNorm = T[:4]\n",
    "print(f\"TNorm: {TNorm}\")\n",
    "RowNorm = Row[:4]\n",
    "print(f\"RowNorm: {RowNorm}\")"
   ]
  },
  {
   "cell_type": "code",
   "execution_count": 7,
   "metadata": {},
   "outputs": [
    {
     "output_type": "stream",
     "name": "stdout",
     "text": [
      "[[1 0 0 3]\n [0 1 0 5]\n [0 0 1 7]\n [0 0 0 1]]\nM4 inverse: \n [[ 1.  0.  0. -3.]\n [ 0.  1.  0. -5.]\n [ 0.  0.  1. -7.]\n [ 0.  0.  0.  1.]]\nthis is a compound string, \nM4:[[1 0 0 3]\n [0 1 0 5]\n [0 0 1 7]\n [0 0 0 1]] \n\nM3 [[1 0 0 2]\n [0 1 0 3]\n [0 0 1 4]\n [0 0 0 1]]\n"
     ]
    }
   ],
   "source": [
    "import numpy as np\n",
    "from numpy.linalg import inv\n",
    "\n",
    "M2 = np.array([\n",
    "    [1,0,0,1],\n",
    "    [0,1,0,2],\n",
    "    [0,0,1,3],\n",
    "    [0,0,0,1]\n",
    "])\n",
    "M3 = np.array([\n",
    "    [1,0,0,2],\n",
    "    [0,1,0,3],\n",
    "    [0,0,1,4],\n",
    "    [0,0,0,1]\n",
    "])\n",
    "M4 = M3 @ M2\n",
    "print(M4)\n",
    "print(\"M4 inverse: \\n\",inv(M4))\n",
    "str = f\"\"\"this is a compound string, \\nM4:{M4} \\n\"\"\"\n",
    "f\"\"\"and its inverse: \\n {inv(M4)}\"\"\"\n",
    "print(str)\n",
    "\n",
    "matDict = {}\n",
    "matDict['M3']=M3\n",
    "for key, value in matDict.items():\n",
    "    print(key, value)"
   ]
  },
  {
   "cell_type": "markdown",
   "metadata": {},
   "source": [
    "## Scipy spatial transform rotation tests"
   ]
  },
  {
   "cell_type": "code",
   "execution_count": null,
   "metadata": {},
   "outputs": [],
   "source": [
    "from scipy.spatial.transform import Rotation as R\n",
    "\n",
    "rot = R.from_quat([1.0, 2.0, 3.0, 4.0])\n",
    "\n",
    "print(\"rot as quat\", rot.as_quat())\n",
    "print(\"rot as euler\", rot.as_euler('xyz', degrees=True))\n",
    "print(\"rot as vector\",rot.as_matrix())\n",
    "print(\"rot as rot-vec\",rot.as_rotvec())\n",
    "\n",
    "rot2 = R.from_rotvec(np.pi/2 * np.array([0, 0, 1]))\n",
    "print(\"\\nrot2 as quat:\", rot2.as_quat())\n",
    "print(\"rot2 as rotvec:\", rot2.as_rotvec())\n",
    "print(\"rot2 as euler:\",rot2.as_euler('xyz', degrees=True))\n",
    "print(\"\\nQuaternion multiplication\")\n",
    "p = R.from_quat([1.0, 1.0, 1.0, 1.0])\n",
    "q = R.from_quat([1.0, 2.0, 3.0, 4.0])\n",
    "print(p.as_euler('xyz', degrees=True))\n",
    "print(p.as_quat())\n",
    "print(q.as_euler('xyz', degrees=True))\n",
    "print(q.as_quat())\n",
    "\n",
    "pq = p * q\n",
    "print(\"\\npq.as_quat():\\t\", pq.as_quat())\n",
    "print(pq.as_matrix())"
   ]
  },
  {
   "cell_type": "markdown",
   "metadata": {},
   "source": [
    "## List, Dict, Tuple test"
   ]
  },
  {
   "cell_type": "code",
   "execution_count": 1,
   "metadata": {},
   "outputs": [],
   "source": [
    "graph = {\"A\":[\"D\", \"C\", \"B\"],\n",
    "                \"B\":[\"E\"],\n",
    "                \"C\":[\"G\", \"F\"],\n",
    "                \"D\":[\"H\"],\n",
    "                \"E\":[\"I\"],\n",
    "                \"F\":[\"J\"]}\n",
    "graphList = [\"A\", \"B\", \"C\"]\n",
    "stack = [\"E\", \"F\", \"G\"]\n",
    "data=[]"
   ]
  },
  {
   "cell_type": "code",
   "execution_count": 9,
   "metadata": {},
   "outputs": [],
   "source": [
    "#next(iter(graph)) #first element in dictionary\n",
    "if data:\n",
    "    print(\"yes data is NOT empty!\")"
   ]
  },
  {
   "cell_type": "code",
   "execution_count": 3,
   "metadata": {},
   "outputs": [
    {
     "output_type": "execute_result",
     "data": {
      "text/plain": [
       "'C'"
      ]
     },
     "metadata": {},
     "execution_count": 3
    }
   ],
   "source": [
    "graphList[-1]"
   ]
  },
  {
   "cell_type": "code",
   "execution_count": null,
   "metadata": {},
   "outputs": [],
   "source": [
    "#graphList = list()\n",
    "iter = iter(graphList)\n",
    "#iter = iter(\"\")"
   ]
  },
  {
   "cell_type": "code",
   "execution_count": null,
   "metadata": {},
   "outputs": [],
   "source": [
    "hasNext = False\n",
    "value = next(iter, None)\n",
    "if value != None:\n",
    "    hasNext = True\n",
    "    print(f\"Has next value: {hasNext} and is: {value}\")\n",
    "else:\n",
    "    hasNext = False\n",
    "    print(f\"Has NO next value: {hasNext} and is: {value}\")"
   ]
  },
  {
   "cell_type": "code",
   "execution_count": null,
   "metadata": {},
   "outputs": [],
   "source": [
    "stack.pop()\n",
    "print(stack)"
   ]
  },
  {
   "cell_type": "code",
   "execution_count": null,
   "metadata": {},
   "outputs": [],
   "source": [
    "#graphList[0]\n",
    "graph[\"Z\"]={}\n",
    "graph[\"Z\"][\"\"]= (\"1\")\n",
    "print(graph[\"Z\"])\n",
    "print(graph)"
   ]
  },
  {
   "cell_type": "code",
   "execution_count": null,
   "metadata": {},
   "outputs": [],
   "source": [
    "source = \"F\"\n",
    "if source not in graph:\n",
    "    print(f\"{source} not in graph\")\n",
    "else:\n",
    "    print(f\"{source} is in graph\")\n",
    "    for neighbor in graph[source]:\n",
    "        print(neighbor)\n",
    "\n"
   ]
  },
  {
   "cell_type": "code",
   "execution_count": null,
   "metadata": {},
   "outputs": [],
   "source": [
    "#kwargs example\n",
    "def concatenate(**kwargs):\n",
    "    result = \"\"\n",
    "    # Iterating over the Python kwargs dictionary\n",
    "    for arg in kwargs.values():\n",
    "        result += arg\n",
    "    for key in kwargs:\n",
    "        print(key, \" -> \",kwargs[key])\n",
    "    return result\n",
    "\n",
    "print(concatenate(a=\"Real\", b=\"Python\", c=\"Is\", d=\"Great\", e=\"!\"))"
   ]
  },
  {
   "cell_type": "code",
   "execution_count": null,
   "metadata": {},
   "outputs": [],
   "source": [
    "import numpy as np\n",
    "import math\n",
    "\n",
    "M1 = np.identity(4)\n",
    "T = np.array([\n",
    "                [1],\n",
    "                [2],\n",
    "                [3],\n",
    "                [1]\n",
    "            ])\n",
    "\n",
    "def update(**kwargs):\n",
    "    for key in kwargs:\n",
    "        print(key, \" -> \",kwargs[key])\n",
    "        if (key == \"a\"):\n",
    "            print(\"found: \", key, \"with value: \", kwargs[key])\n",
    "        if (key == \"l2world\"):\n",
    "            print(\"found: \", key, \"with value: \", kwargs[key])\n",
    "\n",
    "def update2(**kwargs):\n",
    "    key = \"l2world\"\n",
    "    key2 = \"trs\"\n",
    "    key3 = \"l2cam\"\n",
    "    if key in kwargs:\n",
    "        print(\"found: \", key, \"with value: \", kwargs[key])\n",
    "    if key2 in kwargs:\n",
    "        print(\"found: \", key2, \"with value: \", kwargs[key2])\n",
    "    if key3 in kwargs:\n",
    "        print(\"found: \", key3, \"with value: \", kwargs[key3])\n",
    "\n",
    "#update2(l2world=M1, trs=None)\n",
    "update2(l2cam=M1, l2world=T)"
   ]
  },
  {
   "cell_type": "code",
   "execution_count": 15,
   "metadata": {},
   "outputs": [
    {
     "output_type": "stream",
     "name": "stdout",
     "text": [
      "<__main__.Component object at 0x7fdda052f310>\n\n YES!!!! we finally got <__main__.Component object at 0x7fdda052f310> in dict value list: [<__main__.Component object at 0x7fdda052f310>, <__main__.Component object at 0x7fdd9079c950>, <__main__.Component object at 0x7fdda052f810>] part of [<__main__.Component object at 0x7fdda052f310>, <__main__.Component object at 0x7fdd9079c950>, <__main__.Component object at 0x7fdda052f810>]\n<__main__.Component object at 0x7fdd9079c950>\n<__main__.Component object at 0x7fdda052f810>\n<__main__.Component object at 0x7fdda052f910>\n--------------------------------------------pretty print--------------------------------------------\n{53614273283624656701191352661259063586: [<__main__.Component object at 0x7fdda052f310>,\n                                          <__main__.Component object at 0x7fdd9079c950>,\n                                          <__main__.Component object at 0x7fdda052f810>],\n 53614308144016162977499893820597211426: [<__main__.Component object at 0x7fdda052f910>]}\n"
     ]
    }
   ],
   "source": [
    "#generate a unique ID and assign it to a a dictionary\n",
    "import uuid\n",
    "import time\n",
    "import random\n",
    "import pprint\n",
    "from typing import List, Dict\n",
    "\n",
    "x = uuid.uuid1()\n",
    "x.int\n",
    "\n",
    "class Entity():\n",
    "    def __init__(self, id=0):\n",
    "        self._id = id\n",
    "\n",
    "class Component():\n",
    "    def __init__(self):\n",
    "        self._id = uuid.uuid4().int\n",
    "\n",
    "node1 = Entity(uuid.uuid1().int)\n",
    "node2 = Entity(uuid.uuid1().int)\n",
    "comp1 = Component()\n",
    "comp2 = Component()\n",
    "comp3 = Component()\n",
    "comp4 = Component()\n",
    "\n",
    "entDict = dict()\n",
    "compList = list()\n",
    "compList.append(comp1)\n",
    "compList.append(comp2)\n",
    "entDict[node1._id] = compList\n",
    "entDict[node2._id] = [comp3]\n",
    "\n",
    "#add one component\n",
    "cList = entDict[node1._id]\n",
    "cList.append(comp4)\n",
    "\n",
    "for key, value in entDict.items():\n",
    "    #print(\"\\n key: \",key, \"with value: \", value)\n",
    "    for el in value: #search a List value for the Dict\n",
    "        print(el)\n",
    "        if el is comp1: #search a specific element of the list\n",
    "            print(f\"\\n YES!!!! we finally got {comp1} in dict value list: {value} part of {entDict[key]}\")\n",
    "\n",
    "print(\"pretty print\".center(100, '-'))\n",
    "pprint.pprint(entDict, width = 10)\n"
   ]
  },
  {
   "cell_type": "code",
   "execution_count": 22,
   "metadata": {},
   "outputs": [
    {
     "output_type": "stream",
     "name": "stdout",
     "text": [
      "<__main__.Component object at 0x7fdda052f310>\n \n GREAT: found <__main__.Component object at 0x7fdda052f310> in [<__main__.Component object at 0x7fdda052f310>, <__main__.Component object at 0x7fdd9079c950>, <__main__.Component object at 0x7fdda052f910>, <__main__.Component object at 0x7fdda052f310>] at 0\n<__main__.Component object at 0x7fdd9079c950>\n<__main__.Component object at 0x7fdda052f910>\n \n GREAT: found <__main__.Component object at 0x7fdda052f910> in [<__main__.Component object at 0x7fdda052f310>, <__main__.Component object at 0x7fdd9079c950>, <__main__.Component object at 0x7fdda052f910>, <__main__.Component object at 0x7fdda052f310>] at 2\n<__main__.Component object at 0x7fdda052f310>\n \n GREAT: found <__main__.Component object at 0x7fdda052f310> in [<__main__.Component object at 0x7fdda052f310>, <__main__.Component object at 0x7fdd9079c950>, <__main__.Component object at 0x7fdda052f910>, <__main__.Component object at 0x7fdda052f310>] at 0\n<__main__.Component object at 0x7fdda052f310>\n<__main__.Component object at 0x7fdda052f910>\n<__main__.Component object at 0x7fdd9079c950>\n\n<__main__.Entity object at 0x7fddb0c885d0> with value: comp1\n\n<__main__.Entity object at 0x7fdd90759350> with value: ['comp2', 'comp3', 'comp4']\n\nfound comp1!\n\n\nfound comp2 in the dict value list: ['comp2', 'comp3', 'comp4'] !\n\n\n\n dict_items([(<__main__.Entity object at 0x7fddb0c885d0>, 'comp1'), (<__main__.Entity object at 0x7fdd90759350>, ['comp2', 'comp3', 'comp4'])])\n--------------------------------------------pretty print--------------------------------------------\n{53614273283624656701191352661259063586: [<__main__.Component object at 0x7fdda052f310>,\n                                          <__main__.Component object at 0x7fdd9079c950>,\n                                          <__main__.Component object at 0x7fdda052f810>],\n 53614308144016162977499893820597211426: [<__main__.Component object at 0x7fdda052f910>]}\n340282366920938463463374607431768211456\n"
     ]
    }
   ],
   "source": [
    "componentsList = list()\n",
    "\n",
    "componentsList.append(comp1)\n",
    "componentsList.append(comp2)\n",
    "componentsList.append(comp3)\n",
    "componentsList.append(comp1)\n",
    "\n",
    "\n",
    "for el in componentsList:\n",
    "    print(el)\n",
    "    if el is comp1:\n",
    "        print(f\" \\n GREAT: found {el} in {componentsList} at {componentsList.index(el)}\")\n",
    "    if el is comp3:\n",
    "        print(f\" \\n GREAT: found {el} in {componentsList} at {componentsList.index(el)}\")\n",
    "\n",
    "components = set()\n",
    "\n",
    "components.add(comp1)\n",
    "components.add(comp2)\n",
    "components.add(comp3)\n",
    "components.add(comp1)\n",
    "\n",
    "for element in components:\n",
    "    print(element)\n",
    "\n",
    "ent1 = Entity()\n",
    "ent2 = Entity()\n",
    "entityDict = {ent1: \"comp1\", ent2:[\"comp2\", \"comp3\", \"comp4\"]}\n",
    "\n",
    "for key in entityDict:\n",
    "    print(f\"\\n{key} with value: {entityDict[key]}\")\n",
    "\n",
    "com2 = \"comp2\"\n",
    "if \"comp2\" in entityDict.values():\n",
    "    print(\"found comp2\")\n",
    "\n",
    "for key, value in entityDict.items():\n",
    "    if value == \"comp1\":\n",
    "        print(\"\\nfound comp1!\\n\")\n",
    "    elif com2 in value:\n",
    "         print(f\"\\nfound comp2 in the dict value list: {value} !\\n\")\n",
    "    \n",
    "\n",
    "print(\"\\n\\n\", entityDict.items())\n",
    "\n",
    "print(\"pretty print\".center(100, '-'))\n",
    "pprint.pprint(entDict, width = 10)\n"
   ]
  },
  {
   "source": [
    "## dictionary population tests"
   ],
   "cell_type": "markdown",
   "metadata": {}
  },
  {
   "cell_type": "code",
   "execution_count": 2,
   "metadata": {},
   "outputs": [
    {
     "output_type": "stream",
     "name": "stdout",
     "text": [
      "{'modelviewproj': array([[1., 0., 0., 0.],\n       [0., 1., 0., 0.],\n       [0., 0., 1., 0.],\n       [0., 0., 0., 1.]])}\n"
     ]
    }
   ],
   "source": [
    "import numpy as np\n",
    "uniform={}\n",
    "\n",
    "key = 'modelviewproj'\n",
    "value = np.identity(4)\n",
    "\n",
    "uniform[key]=value\n",
    "print(uniform)"
   ]
  },
  {
   "cell_type": "markdown",
   "metadata": {},
   "source": [
    "## Generator, Iterator test"
   ]
  },
  {
   "cell_type": "code",
   "execution_count": 69,
   "metadata": {},
   "outputs": [],
   "source": [
    "class Node:\n",
    "    def __init__(self):\n",
    "        pass\n",
    "    def __str__(self):\n",
    "        return f\"a Node class object\"\n",
    "\n",
    "node = Node()\n",
    "scene = [\"root\", \"node2\", \"node4\",  \"trans4\", node]\n",
    "iterS = iter(scene)\n",
    "iterS2 = iter(scene)\n",
    "iterS3 = iter(scene)"
   ]
  },
  {
   "cell_type": "code",
   "execution_count": 70,
   "metadata": {},
   "outputs": [
    {
     "output_type": "stream",
     "name": "stdout",
     "text": [
      "root\nnode2\nnode4\ntrans4\na Node class object\n"
     ]
    }
   ],
   "source": [
    "for node in scene:\n",
    "    print(node)\n",
    "    if node == \"root2\":\n",
    "        print(\"found it!\")\n",
    "        break\n",
    "    \n"
   ]
  },
  {
   "cell_type": "code",
   "execution_count": null,
   "metadata": {},
   "outputs": [],
   "source": [
    "x = scene[-1]\n",
    "print(x)"
   ]
  },
  {
   "cell_type": "code",
   "execution_count": null,
   "metadata": {},
   "outputs": [],
   "source": [
    "scene"
   ]
  },
  {
   "cell_type": "code",
   "execution_count": null,
   "metadata": {},
   "outputs": [],
   "source": [
    "id(x) == id(node)"
   ]
  },
  {
   "cell_type": "code",
   "execution_count": null,
   "metadata": {},
   "outputs": [],
   "source": [
    "scene.append(iterS)\n",
    "scene"
   ]
  },
  {
   "cell_type": "code",
   "execution_count": null,
   "metadata": {},
   "outputs": [],
   "source": [
    "localIter = scene[-1]\n",
    "next(localIter)"
   ]
  },
  {
   "cell_type": "code",
   "execution_count": null,
   "metadata": {},
   "outputs": [],
   "source": [
    "scene"
   ]
  },
  {
   "cell_type": "code",
   "execution_count": null,
   "metadata": {},
   "outputs": [],
   "source": [
    "localIter2 = scene.pop()\n",
    "scene"
   ]
  },
  {
   "cell_type": "code",
   "execution_count": null,
   "metadata": {},
   "outputs": [],
   "source": [
    "next(localIter2)"
   ]
  },
  {
   "cell_type": "code",
   "execution_count": null,
   "metadata": {},
   "outputs": [],
   "source": [
    "list(iterS3)"
   ]
  },
  {
   "cell_type": "code",
   "execution_count": null,
   "metadata": {},
   "outputs": [],
   "source": [
    "# our own infinite iterator\n",
    "try:\n",
    "    print(next(iterS3))\n",
    "except StopIteration:\n",
    "    print(\"end of iteration, reseting iterator\")\n",
    "    scene.pop()\n",
    "    iterS3 = iter(scene)"
   ]
  },
  {
   "cell_type": "code",
   "execution_count": null,
   "metadata": {},
   "outputs": [],
   "source": [
    "# our simple generator\n",
    "def sceneGenerator():\n",
    "    for node in scene:\n",
    "        yield node\n",
    "\n",
    "sceneIter = sceneGenerator()"
   ]
  },
  {
   "cell_type": "code",
   "execution_count": null,
   "metadata": {},
   "outputs": [],
   "source": [
    "next(sceneIter)"
   ]
  },
  {
   "cell_type": "code",
   "execution_count": null,
   "metadata": {},
   "outputs": [],
   "source": [
    "node2 = Node()\n",
    "node3 = Node()\n",
    "scene.append(node2)\n",
    "scene.append(node3)\n",
    "scene"
   ]
  },
  {
   "cell_type": "code",
   "execution_count": null,
   "metadata": {},
   "outputs": [],
   "source": [
    "#slicing list\n",
    "print(\"original scene is:\", str(scene))\n",
    "element = \"trans4\"\n",
    "indexEl = scene.index(element)\n",
    "newScene = scene[:indexEl]\n",
    "print(\"sliced scene is:\", str(newScene))"
   ]
  },
  {
   "cell_type": "code",
   "execution_count": null,
   "metadata": {},
   "outputs": [],
   "source": [
    "#reverse list\n",
    "reverseNewScene = newScene.reverse()\n",
    "print(\"sliced scene is:\", reverseNewScene)"
   ]
  },
  {
   "cell_type": "code",
   "execution_count": null,
   "metadata": {},
   "outputs": [],
   "source": [
    "rs = newScene[::-1]\n",
    "print(rs)"
   ]
  },
  {
   "cell_type": "markdown",
   "metadata": {},
   "source": [
    "## pyOpenVR package test"
   ]
  },
  {
   "cell_type": "code",
   "execution_count": null,
   "metadata": {},
   "outputs": [],
   "source": []
  },
  {
   "cell_type": "code",
   "execution_count": null,
   "metadata": {
    "tags": [
     "outputPrepend"
    ]
   },
   "outputs": [],
   "source": [
    "import openvr\n",
    "dir(help(openvr))"
   ]
  },
  {
   "cell_type": "code",
   "execution_count": null,
   "metadata": {},
   "outputs": [],
   "source": [
    "# sample pyopenVR\n",
    "\n",
    "import sys\n",
    "import time\n",
    "import openvr\n",
    "\n",
    "openvr.init(openvr.VRApplication_Scene)\n",
    "poses = []  # will be populated with proper type after first call\n",
    "for i in range(100):\n",
    "    poses, _ = openvr.VRCompositor().waitGetPoses(poses, None)\n",
    "    hmd_pose = poses[openvr.k_unTrackedDeviceIndex_Hmd]\n",
    "    print(hmd_pose.mDeviceToAbsoluteTracking)\n",
    "    sys.stdout.flush()\n",
    "    time.sleep(0.2)\n",
    "openvr.shutdown()\n",
    "\n"
   ]
  },
  {
   "cell_type": "code",
   "execution_count": null,
   "metadata": {},
   "outputs": [],
   "source": [
    "# it seems it required win32 to operate\n",
    "from openvr.gl_renderer import OpenVrGlRenderer\n",
    "from openvr.color_cube_actor import ColorCubeActor\n",
    "from openvr.glframework.sdl_app import SdlApp\n",
    "\n",
    "if __name__ == \"__main__\":\n",
    "\trenderer = OpenVrGlRenderer(multisample=2)\n",
    "\trenderer.append(ColorCubeActor())\n",
    "\twith SdlApp(renderer, \"sdl2 OpenVR color cube\") as app:\n",
    "\t\tapp.run_loop()"
   ]
  },
  {
   "cell_type": "markdown",
   "metadata": {},
   "source": [
    "## pyVulkan test\n",
    "win32 extensions mainly"
   ]
  },
  {
   "cell_type": "code",
   "execution_count": null,
   "metadata": {},
   "outputs": [],
   "source": [
    "# need so rework for surface_xlib under cocoa, but seems like working otherwise\n",
    "%run example_vulkan.py"
   ]
  },
  {
   "cell_type": "markdown",
   "metadata": {},
   "source": [
    "## matplotlob test"
   ]
  },
  {
   "cell_type": "code",
   "execution_count": null,
   "metadata": {},
   "outputs": [],
   "source": [
    "import pandas as pd\n",
    "import numpy as np\n",
    "import matplotlib.pyplot as plt\n",
    "import seaborn as sns\n",
    "%matplotlib inline\n",
    "\n",
    "N = 50\n",
    "x = np.random.rand(N)\n",
    "y = np.random.rand(N)\n",
    "\n",
    "colors = np.random.rand(N)\n",
    "area = np.pi * (15 * np.random.rand(N)) **2  # 0 to 15 points radiuses\n",
    "\n",
    "plt.scatter(x ,y, area, colors, alpha=0.5)\n",
    "plt.show()"
   ]
  },
  {
   "cell_type": "code",
   "execution_count": null,
   "metadata": {},
   "outputs": [],
   "source": []
  },
  {
   "cell_type": "markdown",
   "metadata": {},
   "source": [
    "## pygame test"
   ]
  },
  {
   "cell_type": "code",
   "execution_count": null,
   "metadata": {
    "tags": []
   },
   "outputs": [],
   "source": [
    "import pygame\n",
    "from pygame.locals import *\n",
    " \n",
    "class App:\n",
    "    def __init__(self):\n",
    "        self._running = True\n",
    "        self._display_surf = None\n",
    "        self.size = self.weight, self.height = 640, 400\n",
    " \n",
    "    def on_init(self):\n",
    "        pygame.init()\n",
    "        self._display_surf = pygame.display.set_mode(self.size, pygame.HWSURFACE | pygame.DOUBLEBUF)\n",
    "        self._running = True\n",
    " \n",
    "    def on_event(self, event):\n",
    "        if event.type == pygame.QUIT:\n",
    "            self._running = False\n",
    "    def on_loop(self):\n",
    "        pass\n",
    "    def on_render(self):\n",
    "        pass\n",
    "    def on_cleanup(self):\n",
    "        pygame.quit()\n",
    " \n",
    "    def on_execute(self):\n",
    "        if self.on_init() == False:\n",
    "            self._running = False\n",
    " \n",
    "        while( self._running ):\n",
    "            for event in pygame.event.get():\n",
    "                self.on_event(event)\n",
    "            self.on_loop()\n",
    "            self.on_render()\n",
    "        self.on_cleanup()\n",
    " \n",
    "if __name__ == \"__main__\" :\n",
    "    theApp = App()\n",
    "    theApp.on_execute()"
   ]
  },
  {
   "cell_type": "code",
   "execution_count": null,
   "metadata": {},
   "outputs": [],
   "source": []
  },
  {
   "cell_type": "markdown",
   "metadata": {},
   "source": [
    "## imageio test"
   ]
  },
  {
   "cell_type": "code",
   "execution_count": null,
   "metadata": {
    "tags": []
   },
   "outputs": [],
   "source": [
    "# on of the best imaging modules to load any image format\n",
    "# https://imageio.readthedocs.io/en/latest/formats.html\n",
    "import imageio\n",
    "\n",
    "im = imageio.imread(\"imageio:chelsea.png\")\n",
    "#im = imageio.imread(\"output.ppm\")\n",
    "print(im.shape)"
   ]
  },
  {
   "cell_type": "code",
   "execution_count": null,
   "metadata": {},
   "outputs": [],
   "source": [
    "# Load an HDR image (supported by imageio)\n",
    "# otherwise use opencv: https://www.learnopencv.com/high-dynamic-range-hdr-imaging-using-opencv-cpp-python/ \n",
    "#\n",
    "\n",
    "#imageio.plugins.freeimage.download()\n",
    "#im2 = imageio.imread('imageio:uffizi_probe.hdr',format='HDR-FI')\n",
    "#print(im2.shape)"
   ]
  },
  {
   "cell_type": "markdown",
   "metadata": {},
   "source": [
    "## read image in Jupyter"
   ]
  },
  {
   "cell_type": "code",
   "execution_count": null,
   "metadata": {
    "tags": []
   },
   "outputs": [],
   "source": [
    "import numpy as np \n",
    "import imageio\n",
    "import matplotlib.pyplot as plt\n",
    "from PIL import Image\n",
    "#im1 = imageio.imread(\"imageio:output.ppm\") #Read the image from the desktop\n",
    "im1 = imageio.imread(\"imageio:chelsea.png\") #Read the image from the desktop\n",
    "print(im1.shape) #Returns the number of rows, columns and channels \n",
    "plt.imshow(im1)\n",
    "plt.show()"
   ]
  },
  {
   "cell_type": "markdown",
   "metadata": {},
   "source": [
    "### ray trace sample script"
   ]
  },
  {
   "cell_type": "code",
   "execution_count": null,
   "metadata": {},
   "outputs": [],
   "source": [
    "!python raytrace.py"
   ]
  },
  {
   "cell_type": "markdown",
   "metadata": {},
   "source": [
    "## glfw test"
   ]
  },
  {
   "cell_type": "code",
   "execution_count": null,
   "metadata": {},
   "outputs": [],
   "source": [
    "import glfw\n",
    "\n",
    "def main():\n",
    "    # Initialize the library\n",
    "    if not glfw.init():\n",
    "        return\n",
    "    # Create a windowed mode window and its OpenGL context\n",
    "    window = glfw.create_window(640, 480, \"Hello World\", None, None)\n",
    "    if not window:\n",
    "        glfw.terminate()\n",
    "        return\n",
    "\n",
    "    # Make the window's context current\n",
    "    glfw.make_context_current(window)\n",
    "\n",
    "    # Loop until the user closes the window\n",
    "    while not glfw.window_should_close(window):\n",
    "        # Render here, e.g. using pyOpenGL\n",
    "\n",
    "        # Swap front and back buffers\n",
    "       # glfw.swap_buffers(window)\n",
    "\n",
    "        # Poll for and process events\n",
    "        glfw.poll_events()\n",
    "\n",
    "    glfw.terminate()\n",
    "\n",
    "if __name__ == \"__main__\":\n",
    "    main()"
   ]
  },
  {
   "cell_type": "markdown",
   "metadata": {},
   "source": [
    "## tesselation shader example"
   ]
  },
  {
   "cell_type": "code",
   "execution_count": null,
   "metadata": {},
   "outputs": [],
   "source": [
    "# this shoudl work on another gfx card with OpenGL 4.6 support\n",
    "import inspect \n",
    "import glfw \n",
    "import numpy\n",
    "from OpenGL.GL import *\n",
    "from OpenGL.GL import shaders\n",
    "\n",
    "'''\n",
    "glfw.init()\n",
    "tile_size, tile_count = 80, 8\n",
    "width = tile_size * tile_count\n",
    "glfw.window_hint(glfw.SAMPLES, 16)\n",
    "window = glfw.create_window(width, width, 'tessellation demo', None, None)\n",
    "glfw.make_context_current(window)\n",
    "'''\n",
    "\n",
    "if not glfw.init():\n",
    "    print(\"cannot init glfw\")\n",
    "# Create a windowed mode window and its OpenGL context\n",
    "window = glfw.create_window(640, 480, \"tessellation World\", None, None)\n",
    "if not window:\n",
    "    glfw.terminate()\n",
    "    print(\"cannot create glfw window\")\n",
    "\n",
    "    # Make the window's context current\n",
    "    glfw.make_context_current(window)\n",
    "\n",
    "triangle = numpy.array([\n",
    "    [-0.9, -0.9, 0.5],  # lower left\n",
    "    [ 0.9, -0.9, 0.5],  # lower right\n",
    "    [ 0.0,  0.9, 0.5],  # top\n",
    "], dtype=numpy.float32)\n",
    "OpenGL.GL.glBindVertexArray(OpenGL.GL.glGenVertexArrays(1))\n",
    "#vertex_array_object = glGenVertexArrays()\n",
    "#glBindVertexArray(vertex_array_object)\n",
    "'''\n",
    "vao = GLuint(0)\n",
    "vao = glGenVertexArrays(1)\n",
    "glBindVertexArray(vao)\n",
    "'''\n",
    "glBindBuffer(GL_ARRAY_BUFFER, glGenBuffers(1))\n",
    "glBufferData(GL_ARRAY_BUFFER, triangle, GL_STATIC_DRAW)\n",
    "glEnableVertexAttribArray(0)\n",
    "glVertexAttribPointer(index=0, size=3, type=GL_FLOAT, normalized=False, stride=0, pointer=None)\n",
    "program = shaders.compileProgram(\n",
    "    shaders.compileShader(source=inspect.cleandoc('''\n",
    "        #version 410 core\n",
    "        in vec3 aPos;\n",
    "        void main() {\n",
    "            gl_Position = vec4(aPos, 1);\n",
    "        }\n",
    "    '''), shaderType=GL_VERTEX_SHADER),\n",
    "    # Tessellation control shader not defined here because default is OK.\n",
    "    shaders.compileShader(source=inspect.cleandoc('''\n",
    "        #version 410 core\n",
    "        layout(triangles) in;\n",
    "        void main() {\n",
    "            gl_Position = (gl_TessCoord.x * gl_in[0].gl_Position) +\n",
    "                          (gl_TessCoord.y * gl_in[1].gl_Position) +\n",
    "                          (gl_TessCoord.z * gl_in[2].gl_Position);\n",
    "        }\n",
    "    '''), shaderType=GL_TESS_EVALUATION_SHADER),\n",
    "    shaders.compileShader(source=inspect.cleandoc('''\n",
    "        #version 410 core\n",
    "        out vec4 fragColor;\n",
    "        void main() {\n",
    "            fragColor = vec4(vec3(0.1), 1);  // dark gray\n",
    "        }\n",
    "    '''), shaderType=GL_FRAGMENT_SHADER),)\n",
    "glUseProgram(program)\n",
    "glPolygonMode(GL_FRONT_AND_BACK, GL_LINE)\n",
    "glPatchParameteri(GL_PATCH_VERTICES, 3)\n",
    "glClearColor(0.95, 0.95, 0.95, 1)  # pale gray\n",
    "outer_levels = numpy.array([1, 1, 1, 1], dtype=numpy.float32)\n",
    "inner_levels = numpy.array([1, 1], dtype=numpy.float32)\n",
    "while not glfw.window_should_close(window):\n",
    "    glClear(GL_COLOR_BUFFER_BIT)\n",
    "    for outer in range(tile_count + 1):  # increase outer tessellation factors left to right\n",
    "        for inner in range(tile_count + 1):  # inner tesselation factors top to bottom\n",
    "            glViewport(outer * tile_size, width - inner * tile_size, tile_size, tile_size)\n",
    "            outer_levels[:] = [outer + 1] * 4  # range 1 to 9; zero means no triangles at all\n",
    "            inner_levels[:] = [inner] * 2  # range 0 to 8\n",
    "            glPatchParameterfv(GL_PATCH_DEFAULT_OUTER_LEVEL, outer_levels)\n",
    "            glPatchParameterfv(GL_PATCH_DEFAULT_INNER_LEVEL, inner_levels)\n",
    "            glDrawArrays(GL_PATCHES, 0, 3)\n",
    "    glfw.swap_buffers(window)\n",
    "    glfw.poll_events()\n",
    "glfw.terminate()"
   ]
  },
  {
   "cell_type": "markdown",
   "metadata": {},
   "source": [
    "## pygame example"
   ]
  },
  {
   "cell_type": "code",
   "execution_count": null,
   "metadata": {},
   "outputs": [],
   "source": [
    "import OpenGL.GL as GL\n",
    "import OpenGL.GL.shaders\n",
    "import ctypes\n",
    "import pygame\n",
    "import numpy\n",
    "\n",
    "vertex_shader = \"\"\"\n",
    "#version 410\n",
    "in vec4 position;\n",
    "void main()\n",
    "{\n",
    "   gl_Position = position;\n",
    "}\n",
    "\"\"\"\n",
    "\n",
    "fragment_shader = \"\"\"\n",
    "#version 410\n",
    "void main()\n",
    "{\n",
    "   gl_FragColor = vec4(1.0f, 1.0f, 1.0f, 1.0f);\n",
    "}\n",
    "\"\"\"\n",
    "\n",
    "vertices = [ 0.6,  0.6, 0.0, 1.0,\n",
    "            -0.6,  0.6, 0.0, 1.0,\n",
    "             0.0, -0.6, 0.0, 1.0]\n",
    "\n",
    "vertices = numpy.array(vertices, dtype=numpy.float32)\n",
    "\n",
    "def create_object(shader):\n",
    "    # Create a new VAO (Vertex Array Object) and bind it\n",
    "    vertex_array_object = GL.glGenVertexArrays(1)\n",
    "    GL.glBindVertexArray( vertex_array_object )\n",
    "    \n",
    "    # Generate buffers to hold our vertices\n",
    "    vertex_buffer = GL.glGenBuffers(1)\n",
    "    GL.glBindBuffer(GL.GL_ARRAY_BUFFER, vertex_buffer)\n",
    "    \n",
    "    # Get the position of the 'position' in parameter of our shader and bind it.\n",
    "    position = GL.glGetAttribLocation(shader, 'position')\n",
    "    GL.glEnableVertexAttribArray(position)\n",
    "    \n",
    "    # Describe the position data layout in the buffer\n",
    "    GL.glVertexAttribPointer(position, 4, GL.GL_FLOAT, False, 0, ctypes.c_void_p(0))\n",
    "    \n",
    "    # Send the data over to the buffer\n",
    "    GL.glBufferData(GL.GL_ARRAY_BUFFER, 48, vertices, GL.GL_STATIC_DRAW)\n",
    "    \n",
    "    # Unbind the VAO first (Important)\n",
    "    GL.glBindVertexArray( 0 )\n",
    "    \n",
    "    # Unbind other stuff\n",
    "    GL.glDisableVertexAttribArray(position)\n",
    "    GL.glBindBuffer(GL.GL_ARRAY_BUFFER, 0)\n",
    "    \n",
    "    return vertex_array_object\n",
    "    \n",
    "def display(shader, vertex_array_object):\n",
    "    GL.glClear(GL.GL_COLOR_BUFFER_BIT | GL.GL_DEPTH_BUFFER_BIT)\n",
    "    GL.glUseProgram(shader)\n",
    "    \n",
    "    GL.glBindVertexArray( vertex_array_object )\n",
    "    GL.glDrawArrays(GL.GL_TRIANGLES, 0, 3)\n",
    "    GL.glBindVertexArray( 0 )\n",
    "    \n",
    "    GL.glUseProgram(0)\n",
    "\n",
    "def main():\n",
    "    pygame.init()\n",
    "    screen = pygame.display.set_mode((512, 512), pygame.OPENGL|pygame.DOUBLEBUF)\n",
    "    GL.glClearColor(0.5, 0.5, 0.5, 1.0)\n",
    "    GL.glEnable(GL.GL_DEPTH_TEST)\n",
    "\n",
    "    shader = OpenGL.GL.shaders.compileProgram(\n",
    "        OpenGL.GL.shaders.compileShader(vertex_shader, GL.GL_VERTEX_SHADER),\n",
    "        OpenGL.GL.shaders.compileShader(fragment_shader, GL.GL_FRAGMENT_SHADER)\n",
    "    )\n",
    "    \n",
    "    vertex_array_object = create_object(shader)\n",
    "    \n",
    "    clock = pygame.time.Clock()\n",
    "    \n",
    "    while True:     \n",
    "        for event in pygame.event.get():\n",
    "            if event.type == pygame.QUIT:\n",
    "                return\n",
    "            if event.type == pygame.KEYUP and event.key == pygame.K_ESCAPE:\n",
    "                return\n",
    "        \n",
    "        display(shader, vertex_array_object)\n",
    "        pygame.display.flip()\n",
    "\n",
    "if __name__ == '__main__':\n",
    "    try:\n",
    "        main()\n",
    "    finally:\n",
    "        pygame.quit()"
   ]
  },
  {
   "cell_type": "markdown",
   "metadata": {},
   "source": [
    "## basicWindow from glGA"
   ]
  },
  {
   "cell_type": "code",
   "execution_count": null,
   "metadata": {},
   "outputs": [],
   "source": [
    "from sdl2 import *\n",
    "import sdl2.ext\n",
    "import imgui as ImGui\n",
    "from imgui.integrations.sdl2 import SDL2Renderer\n",
    "\n",
    "\n",
    "def init():\n",
    "    if SDL_Init(SDL_INIT_VIDEO | SDL_INIT_TIMER) != 0:\n",
    "        print(\"SDL could not initialize! SDL Error: \", SDL_GetError())\n",
    "        exit(1)\n",
    "\n",
    "    print(\"Yay! Initialized SDL successfully!\")\n",
    "    SDL_GL_SetAttribute(SDL_GL_CONTEXT_FLAGS, SDL_GL_CONTEXT_FORWARD_COMPATIBLE_FLAG)\n",
    "    SDL_GL_SetAttribute(SDL_GL_CONTEXT_PROFILE_MASK, SDL_GL_CONTEXT_PROFILE_CORE)\n",
    "    SDL_GL_SetAttribute(SDL_GL_DOUBLEBUFFER, 1)\n",
    "    # SDL_GL_SetAttribute(SDL_GL_DEPTH_SIZE, 16)\n",
    "    # SDL_GL_SetAttribute(SDL_GL_STENCIL_SIZE, 8)\n",
    "    SDL_GL_SetAttribute(SDL_GL_CONTEXT_MAJOR_VERSION, 3)\n",
    "    SDL_GL_SetAttribute(SDL_GL_CONTEXT_MINOR_VERSION, 2)\n",
    "\n",
    "    # CREATE WINDOW\n",
    "    window_title = 'BasicWindow'\n",
    "    windowWidth = 1024\n",
    "    windowHeight = 768\n",
    "    gWindow = SDL_CreateWindow(window_title.encode(), SDL_WINDOWPOS_CENTERED, SDL_WINDOWPOS_CENTERED,\n",
    "                               windowWidth, windowHeight, SDL_WINDOW_OPENGL)\n",
    "    if gWindow is None:\n",
    "        print(\"Window could not be created! SDL Error: \", SDL_GetError())\n",
    "        exit(1)\n",
    "\n",
    "    print(\"Yay! Created window successfully!\\n\\n\")\n",
    "    gContext = SDL_GL_CreateContext(gWindow)\n",
    "    if gContext is None:\n",
    "        print(\"OpenGL context could not be created! SDL Error: \", SDL_GetError())\n",
    "        exit(1)\n",
    "\n",
    "    SDL_GL_MakeCurrent(gWindow, gContext)\n",
    "    if SDL_GL_SetSwapInterval(1) < 0:\n",
    "        print(\"Warning: Unable to set VSync! SDL Error: \" + SDL_GetError())\n",
    "        exit(1)\n",
    "\n",
    "    return gWindow, gContext\n",
    "\n",
    "def impl_pysdl2_init():\n",
    "    width, height = 1280, 720\n",
    "    window_name = \"minimal ImGui/SDL2 example\"\n",
    "\n",
    "    if SDL_Init(SDL_INIT_EVERYTHING) < 0:\n",
    "        print(\"Error: SDL could not initialize! SDL Error: \" + SDL_GetError())\n",
    "        exit(1)\n",
    "\n",
    "    SDL_GL_SetAttribute(SDL_GL_DOUBLEBUFFER, 1)\n",
    "    SDL_GL_SetAttribute(SDL_GL_DEPTH_SIZE, 24)\n",
    "    SDL_GL_SetAttribute(SDL_GL_STENCIL_SIZE, 8)\n",
    "    SDL_GL_SetAttribute(SDL_GL_ACCELERATED_VISUAL, 1)\n",
    "    SDL_GL_SetAttribute(SDL_GL_MULTISAMPLEBUFFERS, 1)\n",
    "    SDL_GL_SetAttribute(SDL_GL_MULTISAMPLESAMPLES, 16)\n",
    "    SDL_GL_SetAttribute(SDL_GL_CONTEXT_FLAGS, SDL_GL_CONTEXT_FORWARD_COMPATIBLE_FLAG)\n",
    "    SDL_GL_SetAttribute(SDL_GL_CONTEXT_MAJOR_VERSION, 4)\n",
    "    SDL_GL_SetAttribute(SDL_GL_CONTEXT_MINOR_VERSION, 1)\n",
    "    SDL_GL_SetAttribute(SDL_GL_CONTEXT_PROFILE_MASK, SDL_GL_CONTEXT_PROFILE_CORE)\n",
    "\n",
    "    SDL_SetHint(SDL_HINT_MAC_CTRL_CLICK_EMULATE_RIGHT_CLICK, b\"1\")\n",
    "    SDL_SetHint(SDL_HINT_VIDEO_HIGHDPI_DISABLED, b\"1\")\n",
    "\n",
    "    window = SDL_CreateWindow(window_name.encode('utf-8'),\n",
    "                              SDL_WINDOWPOS_CENTERED, SDL_WINDOWPOS_CENTERED,\n",
    "                              width, height,\n",
    "                              SDL_WINDOW_OPENGL|SDL_WINDOW_RESIZABLE)\n",
    "\n",
    "    if window is None:\n",
    "        print(\"Error: Window could not be created! SDL Error: \" + SDL_GetError())\n",
    "        exit(1)\n",
    "\n",
    "    gl_context = SDL_GL_CreateContext(window)\n",
    "    if gl_context is None:\n",
    "        print(\"Error: Cannot create OpenGL Context! SDL Error: \" + SDL_GetError())\n",
    "        exit(1)\n",
    "\n",
    "    SDL_GL_MakeCurrent(window, gl_context)\n",
    "    if SDL_GL_SetSwapInterval(1) < 0:\n",
    "        print(\"Warning: Unable to set VSync! SDL Error: \" + SDL_GetError())\n",
    "        exit(1)\n",
    "\n",
    "    return window, gl_context\n",
    "\n",
    "def main():\n",
    "    simpleInit = False\n",
    "    if simpleInit:\n",
    "        gWindow, gContext = init()\n",
    "    else:\n",
    "        gWindow, gContext = impl_pysdl2_init()\n",
    "\n",
    "    ImGui.create_context()\n",
    "    impl = SDL2Renderer(gWindow)\n",
    "\n",
    "    running = True\n",
    "    event = SDL_Event()\n",
    "    renderer = SDL2Renderer(gWindow)\n",
    "\n",
    "    running = True\n",
    "    # MAIN LOOP\n",
    "    while running:\n",
    "        events = sdl2.ext.get_events()\n",
    "        for event in events:\n",
    "            if event.type == SDL_KEYDOWN:\n",
    "                if event.key.keysym.sym == SDLK_ESCAPE:\n",
    "                    running = False\n",
    "            if event.type == SDL_QUIT:\n",
    "                running = False\n",
    "            renderer.process_event(event)\n",
    "        renderer.process_inputs()\n",
    "        \n",
    "        # start new frame context\n",
    "        ImGui.new_frame()\n",
    "\n",
    "        # open new window context\n",
    "        ImGui.begin(\"Our first window!\", True)\n",
    "\n",
    "        # draw text label inside of current window\n",
    "        ImGui.text(\"PyImgui + PySDL2 integration successful!\")\n",
    "\n",
    "        # close current window context\n",
    "        ImGui.end()\n",
    "\n",
    "        # pass all drawing commands to the rendering pipeline\n",
    "        # and close frame context\n",
    "        ImGui.render()\n",
    "\n",
    "        SDL_GL_SwapWindow(gWindow)\n",
    "    # CLOSING\n",
    "    renderer.shutdown()\n",
    "    SDL_GL_DeleteContext(gContext)\n",
    "    SDL_DestroyWindow(gWindow)\n",
    "    SDL_Quit()\n",
    "\n",
    "\n",
    "if __name__ == \"__main__\":\n",
    "    main()"
   ]
  },
  {
   "cell_type": "code",
   "execution_count": null,
   "metadata": {},
   "outputs": [],
   "source": [
    "import turtle\n",
    "\n",
    "help(turtle.pencolor)"
   ]
  },
  {
   "cell_type": "markdown",
   "metadata": {},
   "source": [
    "## Progress Bar tests"
   ]
  },
  {
   "cell_type": "code",
   "execution_count": null,
   "metadata": {},
   "outputs": [],
   "source": [
    "#tqdm example 1\n",
    "from tqdm import tqdm\n",
    "from time import sleep\n",
    "\n",
    "text = \"\"\n",
    "for char in tqdm([\"a\", \"b\", \"c\", \"d\"]):\n",
    "    sleep(0.25)\n",
    "    text = text + char"
   ]
  },
  {
   "cell_type": "code",
   "execution_count": null,
   "metadata": {},
   "outputs": [],
   "source": [
    "#tqdm example 2\n",
    "pbar = tqdm(total=100)\n",
    "for i in range(10):\n",
    "    sleep(0.1)\n",
    "    pbar.update(10)\n",
    "pbar.close()"
   ]
  },
  {
   "cell_type": "code",
   "execution_count": null,
   "metadata": {},
   "outputs": [],
   "source": [
    "#tqdm example 3\n",
    "from tqdm import tqdm, trange\n",
    "from random import random, randint\n",
    "from time import sleep\n",
    "\n",
    "with trange(10) as t:\n",
    "    for i in t:\n",
    "        # Description will be displayed on the left\n",
    "        t.set_description('GEN %i' % i)\n",
    "        # Postfix will be displayed on the right,\n",
    "        # formatted automatically based on argument's datatype\n",
    "        t.set_postfix(loss=random(), gen=randint(1,999), str='h',\n",
    "                      lst=[1, 2])\n",
    "        sleep(0.1)\n",
    "\n",
    "with tqdm(total=10, bar_format=\"{postfix[0]} {postfix[1][value]:>8.2g}\",\n",
    "          postfix=[\"Batch\", dict(value=0)]) as t:\n",
    "    for i in range(10):\n",
    "        sleep(0.1)\n",
    "        t.postfix[1][\"value\"] = i / 2\n",
    "        t.update()"
   ]
  },
  {
   "cell_type": "code",
   "execution_count": null,
   "metadata": {},
   "outputs": [],
   "source": [
    "#tqdm example 4 with nice jupyter output\n",
    "from tqdm.notebook import trange, tqdm\n",
    "from time import sleep\n",
    "\n",
    "for i in trange(3, desc='1st loop'):\n",
    "    for j in tqdm(range(100), desc='2nd loop'):\n",
    "        sleep(0.01)"
   ]
  },
  {
   "cell_type": "code",
   "execution_count": null,
   "metadata": {},
   "outputs": [],
   "source": [
    "# alive-progress example 1\n",
    "from alive_progress import alive_bar\n",
    "items = range(1000)                  # retrieve your set of items\n",
    "with alive_bar(len(items)) as bar:   # declare your expected total\n",
    "    for item in items:               # iterate as usual\n",
    "        # process each item\n",
    "        bar()                        # call after consuming one item"
   ]
  },
  {
   "cell_type": "code",
   "execution_count": null,
   "metadata": {},
   "outputs": [],
   "source": [
    "# alive-progress example 2\n",
    "from alive_progress import showtime\n",
    "#showtime() #hangs up jupyter"
   ]
  },
  {
   "cell_type": "code",
   "execution_count": null,
   "metadata": {},
   "outputs": [],
   "source": [
    "%load_ext version_information\n",
    "\n",
    "%version_information\n",
    "%version_information scipy, numpy, Cython, matplotlib, qutip, version_information"
   ]
  },
  {
   "cell_type": "code",
   "execution_count": null,
   "metadata": {},
   "outputs": [],
   "source": [
    "#from OpenGL import *\n",
    "import OpenGL.GL as gl\n"
   ]
  },
  {
   "cell_type": "code",
   "execution_count": null,
   "metadata": {},
   "outputs": [],
   "source": [
    "help(OpenGL)"
   ]
  },
  {
   "cell_type": "code",
   "execution_count": null,
   "metadata": {},
   "outputs": [],
   "source": [
    "import OpenGL.GL as myGL"
   ]
  },
  {
   "cell_type": "code",
   "execution_count": null,
   "metadata": {},
   "outputs": [],
   "source": [
    "help (myGL)"
   ]
  },
  {
   "cell_type": "code",
   "execution_count": null,
   "metadata": {},
   "outputs": [],
   "source": []
  }
 ],
 "metadata": {
  "file_extension": ".py",
  "kernelspec": {
   "name": "python379jvsc74a57bd038e56ec89d613ed1db8665747e1247bdd777b72942207e01357cfd83e328755a",
   "display_name": "Python 3.7.9 64-bit ('glGA37': conda)"
  },
  "language_info": {
   "codemirror_mode": {
    "name": "ipython",
    "version": 3
   },
   "file_extension": ".py",
   "mimetype": "text/x-python",
   "name": "python",
   "nbconvert_exporter": "python",
   "pygments_lexer": "ipython3",
   "version": "3.7.9"
  },
  "mimetype": "text/x-python",
  "name": "python",
  "npconvert_exporter": "python",
  "pygments_lexer": "ipython3",
  "version": 3
 },
 "nbformat": 4,
 "nbformat_minor": 4
}