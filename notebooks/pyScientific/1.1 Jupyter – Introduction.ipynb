{
 "cells": [
  {
   "cell_type": "markdown",
   "metadata": {},
   "source": [
    "# Introduction to Jupyter interactive notebooks"
   ]
  },
  {
   "cell_type": "markdown",
   "metadata": {},
   "source": [
    "This notebook is a part of [Lectures on scientific computing with Python](http://github.com/jrjohansson/scientific-python-lectures) by [J.R. Johansson](http://jrjohansson.github.io). \n",
    "\n",
    "It has been updated by Prof. [George Papagiannakis](http://george.papagiannakis.org) as an introduction to the [glGA](http://george.papagiannakis.org/?page_id=513) SDK v2020.1 \n",
    "\n",
    "---"
   ]
  },
  {
   "cell_type": "markdown",
   "metadata": {},
   "source": [
    "## What is a Jupyter Notebook?"
   ]
  },
  {
   "cell_type": "markdown",
   "metadata": {},
   "source": [
    "The Jupyter Notebook is an **interactive computing environment** that enables users to create notebook documents that include live code, markdown text, plots, images and equations in LaTeX."
   ]
  },
  {
   "cell_type": "markdown",
   "metadata": {},
   "source": [
    "These documents provide a **complete and self-contained record of a computation** that can be converted to various formats and shared with others using email, [Dropbox](https://www.dropbox.com/), version control systems (like git/[GitHub](https://github.com)) or [BitBucket](http://www.bitbucket.com) or [nbviewer.jupyter.org](http://nbviewer.jupyter.org)."
   ]
  },
  {
   "cell_type": "markdown",
   "metadata": {},
   "source": [
    "The Jupyter Notebook combines three components:\n",
    "* **Notebook editor**: an interactive application for writing and running code interactively and editing notebook documents. If you run Jupyter on desktop, you will be using Jupyter's web application, whereas right now you are using Juno as your notebook editor.\n",
    "* **Kernels**: Separate processes started by Jupyter on your server, that runs users' code in a given language and returns output back to the notebook web application. The kernel also handles things like computations for interactive widgets, tab completion and introspection.\n",
    "* **Notebook documents**: Self-contained documents that contain a representation of all content visible in the notebook editor, including inputs and outputs of the computations, markdown text, equations, images, and rich media representations of objects. Each notebook document has its own kernel."
   ]
  },
  {
   "cell_type": "markdown",
   "metadata": {},
   "source": [
    "## Notebook editor"
   ]
  },
  {
   "cell_type": "markdown",
   "metadata": {},
   "source": [
    "Notebook editor, be it Jupyter's web application running in a browser, or an app with embedded Jupyter like **Microsoft Visual Code**, enables users to:\n",
    "* **Edit code** with automatic syntax highlighting, indentation, and tab completion/introspection.\n",
    "* **Run code**, with the results of computations attached to the code which generated them.\n",
    "* See the results of computations with **rich media representations**, such as HTML, LaTeX, PNG, SVG, PDF, etc.\n",
    "* Author **narrative text** using [Markdown](https://daringfireball.net/projects/markdown/) markup language.\n",
    "* Include mathematical equations using **LaTeX syntax in Markdown**, which are rendered by [MathJax](https://www.mathjax.org/)."
   ]
  },
  {
   "cell_type": "markdown",
   "metadata": {},
   "source": [
    "## Kernels"
   ]
  },
  {
   "cell_type": "markdown",
   "metadata": {},
   "source": [
    "Through Jupyter's kernel and messaging architecture, Jupyter Notebook allows code to be run in a range of different programming languages. For each notebook document that a user opens, the Jupyter's server application starts a kernel that runs the code for that notebook. Each kernel is capable of running code in a single programming language and there are kernels available in [100+ languages](https://github.com/jupyter/jupyter/wiki/Jupyter-kernels), including **Python**, **C++**, **C#**, **Julia**, **R**, **Ruby**, **Haskell**, **Scala**, and many others."
   ]
  },
  {
   "cell_type": "markdown",
   "metadata": {},
   "source": [
    "The default kernel (and the only kernel currently available in Visual Code) runs Python code. The notebook provides a simple way for users to pick which of these kernels is used for a given notebook. Each of these kernels communicate with the notebook editor using JSON over ZeroMQ/WebSockets message protocol that is described [here](https://jupyter-client.readthedocs.io/en/latest/messaging.html#messaging). Most users don't need to know about these details, but it helps to understand that \"kernels run code\"."
   ]
  },
  {
   "cell_type": "markdown",
   "metadata": {},
   "source": [
    "## Notebook documents"
   ]
  },
  {
   "cell_type": "markdown",
   "metadata": {},
   "source": [
    "Notebook documents, or notebooks, contain the **inputs and outputs** of an interactive session as well as **narrative text** that accompanies the code but is not meant for execution. **Rich output** generated by running code, including HTML, images, video, and plots, is embeddeed in the notebook, which makes it a complete and self-contained record of a computation. "
   ]
  },
  {
   "cell_type": "markdown",
   "metadata": {},
   "source": [
    "When you are using a notebook editor, notebook documents are just **files on your server's filesystem with a `.ipynb` extension**. This allows you to use familiar workflows for organizing your notebooks into folders and sharing them with others."
   ]
  },
  {
   "cell_type": "markdown",
   "metadata": {},
   "source": [
    "Notebooks consist of a **linear sequence of cells**. There are three basic cell types:\n",
    "* **Code cells:** Input and output of live code that is run in the kernel.\n",
    "* **Markdown cells:** Narrative text with embedded LaTeX equations.\n",
    "* **Raw cells:** Unformatted text that is included, without modification, when notebooks are converted to different formats using `nbconvert`."
   ]
  },
  {
   "cell_type": "markdown",
   "metadata": {},
   "source": [
    "Internally, notebook documents are **[JSON](https://en.wikipedia.org/wiki/JSON) text files** with **binary data encoded in [base64](http://en.wikipedia.org/wiki/Base64)**. This allows them to be **read and manipulated programmatically** by any programming language. Because JSON is a text format, notebook documents are version control friendly."
   ]
  },
  {
   "cell_type": "markdown",
   "metadata": {},
   "source": [
    "**Notebooks can be exported** to different static formats including HTML, reStructeredText, LaTeX, PDF, and slide shows ([reveal.js](http://lab.hakim.se/reveal-js/)) using Jupyter's `nbconvert` utility."
   ]
  },
  {
   "cell_type": "markdown",
   "metadata": {},
   "source": [
    "Furthermore, any notebook document available from a **public URL on or GitHub can be shared** via [nbviewer](http://nbviewer.jupyter.org). This service loads the notebook document from the URL and renders it as a static web page. The resulting web page may thus be shared with others **without their needing to install the Jupyter Notebook**."
   ]
  },
  {
   "cell_type": "markdown",
   "metadata": {},
   "source": [
    "## Versions"
   ]
  },
  {
   "cell_type": "code",
   "execution_count": 3,
   "metadata": {},
   "outputs": [
    {
     "output_type": "execute_result",
     "data": {
      "text/plain": "Software versions\nPython 3.7.6 64bit [Clang 4.0.1 (tags/RELEASE_401/final)]\nIPython 7.12.0\nOS Darwin 19.5.0 x86_64 i386 64bit\nscipy 1.4.1\nnumpy 1.18.1\nCython 0.29.15\nmatplotlib 3.1.3\nqutip The 'qutip' distribution was not found and is required by the application\nversion_information 1.0.3\nSun Jul 26 14:20:01 2020 EEST",
      "text/html": "<table><tr><th>Software</th><th>Version</th></tr><tr><td>Python</td><td>3.7.6 64bit [Clang 4.0.1 (tags/RELEASE_401/final)]</td></tr><tr><td>IPython</td><td>7.12.0</td></tr><tr><td>OS</td><td>Darwin 19.5.0 x86_64 i386 64bit</td></tr><tr><td>scipy</td><td>1.4.1</td></tr><tr><td>numpy</td><td>1.18.1</td></tr><tr><td>Cython</td><td>0.29.15</td></tr><tr><td>matplotlib</td><td>3.1.3</td></tr><tr><td>qutip</td><td>The 'qutip' distribution was not found and is required by the application</td></tr><tr><td>version_information</td><td>1.0.3</td></tr><tr><td colspan='2'>Sun Jul 26 14:20:01 2020 EEST</td></tr></table>",
      "text/latex": "\\begin{tabular}{|l|l|}\\hline\n{\\bf Software} & {\\bf Version} \\\\ \\hline\\hline\nPython & 3.7.6 64bit [Clang 4.0.1 (tags/RELEASE\\_401/final)] \\\\ \\hline\nIPython & 7.12.0 \\\\ \\hline\nOS & Darwin 19.5.0 x86\\_64 i386 64bit \\\\ \\hline\nscipy & 1.4.1 \\\\ \\hline\nnumpy & 1.18.1 \\\\ \\hline\nCython & 0.29.15 \\\\ \\hline\nmatplotlib & 3.1.3 \\\\ \\hline\nqutip & The 'qutip' distribution was not found and is required by the application \\\\ \\hline\nversion_information & 1.0.3 \\\\ \\hline\n\\hline \\multicolumn{2}{|l|}{Sun Jul 26 14:20:01 2020 EEST} \\\\ \\hline\n\\end{tabular}\n",
      "application/json": {
       "Software versions": [
        {
         "module": "Python",
         "version": "3.7.6 64bit [Clang 4.0.1 (tags/RELEASE_401/final)]"
        },
        {
         "module": "IPython",
         "version": "7.12.0"
        },
        {
         "module": "OS",
         "version": "Darwin 19.5.0 x86_64 i386 64bit"
        },
        {
         "module": "scipy",
         "version": "1.4.1"
        },
        {
         "module": "numpy",
         "version": "1.18.1"
        },
        {
         "module": "Cython",
         "version": "0.29.15"
        },
        {
         "module": "matplotlib",
         "version": "3.1.3"
        },
        {
         "module": "qutip",
         "version": "The 'qutip' distribution was not found and is required by the application"
        },
        {
         "module": "version_information",
         "version": "1.0.3"
        }
       ]
      }
     },
     "metadata": {},
     "execution_count": 3
    }
   ],
   "source": [
    "%reload_ext version_information\n",
    "\n",
    "%version_information\n",
    "%version_information scipy, numpy, Cython, matplotlib, qutip, version_information"
   ]
  },
  {
   "cell_type": "code",
   "execution_count": null,
   "metadata": {},
   "outputs": [],
   "source": []
  }
 ],
 "metadata": {
  "kernelspec": {
   "display_name": "Python 3",
   "language": "python",
   "name": "python3"
  },
  "language_info": {
   "codemirror_mode": {
    "name": "ipython",
    "version": 3
   },
   "file_extension": ".py",
   "mimetype": "text/x-python",
   "name": "python",
   "nbconvert_exporter": "python",
   "pygments_lexer": "ipython3",
   "version": "3.7.6-final"
  }
 },
 "nbformat": 4,
 "nbformat_minor": 1
}