{
 "cells": [
  {
   "cell_type": "markdown",
   "metadata": {},
   "source": [
    "# Markdown in Jupyter"
   ]
  },
  {
   "cell_type": "markdown",
   "metadata": {},
   "source": [
    "This notebook is a part of [Lectures on scientific computing with Python](http://github.com/jrjohansson/scientific-python-lectures) by [J.R. Johansson](http://jrjohansson.github.io). \n",
    "\n",
    "It has been updated by Prof. [George Papagiannakis](http://george.papagiannakis.org) as an introduction to the [glGA](http://george.papagiannakis.org/?page_id=513) `SDK v2020.1`\n",
    "\n",
    "---"
   ]
  },
  {
   "cell_type": "markdown",
   "metadata": {},
   "source": [
    "## Markdown cells"
   ]
  },
  {
   "cell_type": "markdown",
   "metadata": {},
   "source": [
    "Text can be added to Jupyter Notebooks using Markdown cells.  You can change the cell type to `Markdown` by using the \"Cell Actions\" menu, or with a hardware keyboard shortcut `m`.  Markdown is a popular markup language that is a superset of HTML. Its specification can be found here:\n",
    "\n",
    "<https://daringfireball.net/projects/markdown/>"
   ]
  },
  {
   "cell_type": "markdown",
   "metadata": {},
   "source": [
    "As noted earlier, markdown cells can either be **rendered** or **unrendered**. When they are rendered, you will see a nice formatted representation of the cell's contents. When they are unrendered, you will see the raw text source of the cell. To render the selected cell, click the `▶︎` button. To unrender, select the  markdown cell, and then tap again on the rendered text."
   ]
  },
  {
   "cell_type": "markdown",
   "metadata": {},
   "source": [
    "## Markdown basics"
   ]
  },
  {
   "cell_type": "markdown",
   "metadata": {},
   "source": [
    "You can make text *italic* or **bold**."
   ]
  },
  {
   "cell_type": "markdown",
   "metadata": {},
   "source": [
    "You can build nested itemized or enumerated lists:\n",
    "\n",
    "* One\n",
    "    - Sublist\n",
    "        - This\n",
    "  - Sublist\n",
    "        - That\n",
    "        - The other thing\n",
    "* Two\n",
    "  - Sublist\n",
    "* Three\n",
    "  - Sublist"
   ]
  },
  {
   "cell_type": "markdown",
   "metadata": {},
   "source": [
    "Now another list:\n",
    "\n",
    "1. Here we go\n",
    "    1. Sublist\n",
    "    2. Sublist\n",
    "2. There we go\n",
    "3. Now this"
   ]
  },
  {
   "cell_type": "markdown",
   "metadata": {},
   "source": [
    "You can add horizontal rules:\n",
    "\n",
    "---"
   ]
  },
  {
   "cell_type": "markdown",
   "metadata": {},
   "source": [
    "Here is a blockquote:\n",
    "\n",
    "> Beautiful is better than ugly.\n",
    "> Explicit is better than implicit.\n",
    "> Simple is better than complex.\n",
    "> Complex is better than complicated.\n",
    "> Flat is better than nested.\n",
    "> Sparse is better than dense.\n",
    "> Readability counts.\n",
    "> Special cases aren't special enough to break the rules.\n",
    "> Although practicality beats purity.\n",
    "> Errors should never pass silently.\n",
    "> Unless explicitly silenced.\n",
    "> In the face of ambiguity, refuse the temptation to guess.\n",
    "> There should be one-- and preferably only one --obvious way to do it.\n",
    "> Although that way may not be obvious at first unless you're Dutch.\n",
    "> Now is better than never.\n",
    "> Although never is often better than *right* now.\n",
    "> If the implementation is hard to explain, it's a bad idea.\n",
    "> If the implementation is easy to explain, it may be a good idea.\n",
    "> Namespaces are one honking great idea -- let's do more of those!"
   ]
  },
  {
   "cell_type": "markdown",
   "metadata": {},
   "source": [
    "And shorthand for links:\n",
    "\n",
    "[Jupyter's website](http://jupyter.org)"
   ]
  },
  {
   "cell_type": "markdown",
   "metadata": {},
   "source": [
    "## Headings"
   ]
  },
  {
   "cell_type": "markdown",
   "metadata": {},
   "source": [
    "You can add headings by starting a line with one (or multiple) `#` followed by a space, as in the following example:\n",
    "\n",
    "```\n",
    "# Heading 1\n",
    "# Heading 2\n",
    "## Heading 2.1\n",
    "## Heading 2.2\n",
    "```"
   ]
  },
  {
   "cell_type": "markdown",
   "metadata": {},
   "source": [
    "## Embedded code"
   ]
  },
  {
   "cell_type": "markdown",
   "metadata": {},
   "source": [
    "You can embed code meant for illustration instead of execution in Python:\n",
    "\n",
    "    def f(x):\n",
    "        \"\"\"a docstring\"\"\"\n",
    "        return x**2\n",
    "\n",
    "or to import a module for geometric algebra with Clifford:\n",
    "\n",
    "    import clifford\n",
    "\n",
    "\n",
    "or other languages:\n",
    "\n",
    "    if (i=0; i<n; i++) {\n",
    "      printf(\"hello %d\\n\", i);\n",
    "      x += 4;\n",
    "    }\n",
    "\n",
    "\n",
    "or other markup languages:\n",
    "\n",
    "    <image> this is an image </image>"
   ]
  },
  {
   "cell_type": "markdown",
   "metadata": {},
   "source": [
    "## LaTeX equations"
   ]
  },
  {
   "cell_type": "markdown",
   "metadata": {},
   "source": [
    "Courtesy of MathJax, you can include mathematical expressions both inline: \n",
    "$e^{i\\pi} + 1 = 0$  and displayed:\n",
    "\n",
    "$$e^x=\\sum_{i=0}^\\infty \\frac{1}{i!}x^i$$\n",
    "\n",
    "Inline expressions can be added by surrounding the latex code with `$`:\n",
    "\n",
    "```\n",
    "$e^{i\\pi} + 1 = 0$\n",
    "```\n",
    "\n",
    "Expressions on their own line are surrounded by `$$`:\n",
    "\n",
    "```latex\n",
    "$$e^x=\\sum_{i=0}^\\infty \\frac{1}{i!}x^i$$\n",
    "```"
   ]
  },
  {
   "cell_type": "markdown",
   "metadata": {},
   "source": [
    "## GitHub flavored markdown"
   ]
  },
  {
   "cell_type": "markdown",
   "metadata": {},
   "source": [
    "The Notebook webapp supports Github flavored markdown meaning that you can use triple backticks for code blocks:\n",
    "\n",
    "    ```python\n",
    "    print \"Hello World\"\n",
    "    print (\"hello world\")\n",
    "    ```\n",
    "\n",
    "    ```javascript\n",
    "    console.log(\"Hello World\")\n",
    "    ```\n",
    "\n",
    "Gives:\n",
    "\n",
    "```python\n",
    "print \"Hello World\"\n",
    "```\n",
    "\n",
    "```javascript\n",
    "console.log(\"Hello World\")\n",
    "```"
   ]
  },
  {
   "cell_type": "markdown",
   "metadata": {},
   "source": [
    "And a table like this: \n",
    "\n",
    "    | This | is   |\n",
    "    |------|------|\n",
    "    |   a  | table| \n",
    "\n",
    "A nice HTML Table:\n",
    "\n",
    "| This | is   |\n",
    "|------|------|\n",
    "|   a  | table| "
   ]
  },
  {
   "cell_type": "markdown",
   "metadata": {},
   "source": [
    "## General HTML"
   ]
  },
  {
   "cell_type": "markdown",
   "metadata": {},
   "source": [
    "Because Markdown is a superset of HTML you can even add things like HTML tables:\n",
    "\n",
    "<table>\n",
    "<tr>\n",
    "<th>Header 1</th>\n",
    "<th>Header 2</th>\n",
    "</tr>\n",
    "<tr>\n",
    "<td>row 1, cell 1</td>\n",
    "<td>row 1, cell 2</td>\n",
    "</tr>\n",
    "<tr>\n",
    "<td>row 2, cell 1</td>\n",
    "<td>row 2, cell 2</td>\n",
    "</tr>\n",
    "</table>"
   ]
  },
  {
   "cell_type": "markdown",
   "metadata": {},
   "source": [
    "## Local files"
   ]
  },
  {
   "cell_type": "markdown",
   "metadata": {},
   "source": [
    "If you have local files in your Notebook directory, you can refer to these files in Markdown cells directly:\n",
    "\n",
    "    [subdirectory/]<filename>\n",
    "\n",
    "For example, in the images folder, we have the Python logo:\n",
    "\n",
    "    <img src=\"resources/python_logo.svg\" />\n",
    "\n",
    "<img src=\"resources/python_logo.svg\" />"
   ]
  },
  {
   "cell_type": "markdown",
   "metadata": {},
   "source": [
    "...And a video with the HTML5 video tag:\n",
    "\n",
    "    <video controls src=\"resources/animation.m4v\" />\n",
    "\n",
    "<video controls src=\"resources/animation.m4v\" />\n",
    "\n",
    "These do not embed the data into the notebook file, and require that the files exist when you are viewing the notebook."
   ]
  },
  {
   "cell_type": "markdown",
   "metadata": {},
   "source": [
    "### Security of local files"
   ]
  },
  {
   "cell_type": "markdown",
   "metadata": {},
   "source": [
    "Note that this means that the Jupyter notebook server also acts as a generic file server\n",
    "for files inside the same tree as your notebooks.  Access is not granted outside the\n",
    "notebook folder so you have strict control over what files are visible, but for this\n",
    "reason it is highly recommended that you do not run the notebook server with a notebook\n",
    "directory at a high level in your filesystem (e.g. your home directory).\n",
    "\n",
    "When you run the notebook in a password-protected manner, local file access is restricted\n",
    "to authenticated users unless read-only views are active."
   ]
  },
  {
   "cell_type": "markdown",
   "metadata": {},
   "source": [
    "## Further examples of markdown "
   ]
  },
  {
   "cell_type": "markdown",
   "metadata": {},
   "source": [
    " this is how to use an image:\n",
    " ![Image title](https://boostnote.io/assets/img/logo.png)\n",
    "  ![Image title](./_images/image1.png)\n",
    " \n",
    " this is how to use a quotation:\n",
    " > this is a quote!\n",
    " \n",
    "this is a link:\n",
    "  [Boostnote](https://boostnote.io)\n",
    "\n",
    "\n",
    "this is a check box:\n",
    "- [x] Task 1\n",
    "- [ ] Task 2\n",
    "\n",
    "this is a fold:\n",
    "<details><summary>Boostnote is a notepad corresponding to\n",
    "markdown notation, which is a tool for organizing and\n",
    "sharing information.</summary>\n",
    "- Features - <br>\n",
    "· Search function to find memos in one shot\n",
    "· Supports markdown notation <br>\n",
    "· Support for Mac, Windows, Linux, iOS, Android <br>\n",
    "· Export and import to Plain text (.txt), Markdown (.md)\n",
    "format <br>\n",
    "· Supports PDF saving <br>\n",
    "· Can be used offline <br>\n",
    "· Synchronize to dropbox etc. with setting <br>\n",
    "· Supports theme colors and numerous fonts <br>\n",
    "</details>\n",
    "\n",
    "this is for emphasis:\n",
    "*Italic type*\n",
    "**Bold**\n",
    "~~Negative~~"
   ]
  },
  {
   "cell_type": "markdown",
   "metadata": {},
   "source": [
    "## Magic commands"
   ]
  },
  {
   "cell_type": "code",
   "execution_count": 11,
   "metadata": {},
   "outputs": [
    {
     "output_type": "stream",
     "name": "stdout",
     "text": "total 8632\ndrwxr-xr-x  31 Giwrgakis  staff      992 Mar 22 17:08 \u001b[1m\u001b[34m.\u001b[m\u001b[m/\ndrwxr-xr-x@ 32 Giwrgakis  staff     1024 Apr  3 10:50 \u001b[1m\u001b[34m..\u001b[m\u001b[m/\n-rw-r--r--@  1 Giwrgakis  staff    11649 Apr  3 10:24 1.1 Jupyter – Introduction.ipynb\n-rw-r--r--@  1 Giwrgakis  staff     5306 Apr  3 10:24 1.2 Jupyter – Jupyter and Juno.ipynb\n-rw-r--r--@  1 Giwrgakis  staff     8244 Apr  3 10:23 1.3 Jupyter – Running Code.ipynb\n-rw-r--r--@  1 Giwrgakis  staff    16107 Apr  3 11:57 1.4 Jupyter – Markdown Cells.ipynb\n-rw-r--r--@  1 Giwrgakis  staff     6235 Apr  3 10:40 2.1 Python – Introduction.ipynb\n-rw-r--r--@  1 Giwrgakis  staff    20006 Mar 22 16:40 2.2 Python – Variables and Fundamental Types.ipynb\n-rw-r--r--@  1 Giwrgakis  staff    24248 Mar 22 16:40 2.3 Python – Compound Types.ipynb\n-rw-r--r--@  1 Giwrgakis  staff    12850 Mar 22 16:40 2.4 Python – Control Flow and Loops.ipynb\n-rw-r--r--@  1 Giwrgakis  staff    15637 Mar 22 16:40 2.5 Python – Functions and Classes.ipynb\n-rw-r--r--@  1 Giwrgakis  staff    18863 Mar 22 16:40 2.6 Python – Modules and Exceptions.ipynb\n-rw-r--r--@  1 Giwrgakis  staff     7528 Mar 22 16:40 3.1 NumPy – Multidimensional Data Arrays.ipynb\n-rw-r--r--@  1 Giwrgakis  staff    21336 Mar 22 16:40 3.2 NumPy – Creating Arrays.ipynb\n-rw-r--r--@  1 Giwrgakis  staff   147835 Mar 22 16:40 3.3 NumPy – File IO.ipynb\n-rw-r--r--@  1 Giwrgakis  staff    23093 Mar 22 16:40 3.4 NumPy – Manipulating Arrays.ipynb\n-rw-r--r--@  1 Giwrgakis  staff    45774 Mar 22 16:40 3.5 NumPy – Linear Algebra.ipynb\n-rw-r--r--@  1 Giwrgakis  staff    16319 Mar 22 16:40 3.6 NumPy – Stacking and Iterating.ipynb\n-rw-r--r--@  1 Giwrgakis  staff    15528 Mar 22 16:40 3.7 NumPy – Vectorization.ipynb\n-rw-r--r--@  1 Giwrgakis  staff     6988 Mar 22 16:40 4.1 Matplotlib – Plotting in Python.ipynb\n-rw-r--r--@  1 Giwrgakis  staff   182576 Mar 22 16:40 4.2 Matplotlib – Plotting and Saving Figures.ipynb\n-rw-r--r--@  1 Giwrgakis  staff   391818 Mar 22 16:40 4.3 Matplotlib – Legends and Labels.ipynb\n-rw-r--r--@  1 Giwrgakis  staff   416400 Mar 22 16:40 4.4 Matplotlib – Axes in Plots.ipynb\n-rw-r--r--@  1 Giwrgakis  staff   713067 Mar 22 16:40 4.5 Matplotlib – Other 2D Plots.ipynb\n-rw-r--r--@  1 Giwrgakis  staff  1776281 Mar 22 16:40 4.6 Matplotlib – 3D Figures.ipynb\n-rw-r--r--@  1 Giwrgakis  staff    17562 Mar 22 16:40 5.1 Pandas – Data Structures.ipynb\n-rw-r--r--@  1 Giwrgakis  staff    35426 Mar 22 16:40 5.2 Pandas – Reading Data.ipynb\n-rw-r--r--@  1 Giwrgakis  staff    35161 Mar 22 16:40 5.3 Pandas – Inspecting DataFrames.ipynb\n-rw-r--r--@  1 Giwrgakis  staff    43196 Mar 22 16:40 5.4 Pandas – Manipulating DataFrames.ipynb\n-rw-r--r--@  1 Giwrgakis  staff   328564 Mar 22 16:40 5.5 Pandas – MovieLens Dataset.ipynb\n-rw-r--r--@  1 Giwrgakis  staff      201 Mar 22 16:40 Untitled.ipynb\n"
    }
   ],
   "source": [
    "# this is a magic call\n",
    "%pwd\n",
    "# and these are another\n",
    "%ls -la\n",
    "%matplotlib inline"
   ]
  },
  {
   "cell_type": "markdown",
   "metadata": {},
   "source": [
    "## Python system paths and versions"
   ]
  },
  {
   "cell_type": "code",
   "execution_count": 12,
   "metadata": {},
   "outputs": [
    {
     "output_type": "stream",
     "name": "stdout",
     "text": "/Users/Giwrgakis/MyProjects/Python/Junno\n/private/var/folders/ws/qz4dlrm11rjfcpy4p4p5ndh40000gn/T/815de816-a236-47ce-9ae8-263eba547f7b\n\n/Users/Giwrgakis/opt/anaconda3/lib/python3.7/site-packages\n/Users/Giwrgakis/.vscode/extensions/ms-python.python-2020.3.71113/pythonFiles\n/Users/Giwrgakis/.vscode/extensions/ms-python.python-2020.3.71113/pythonFiles/lib/python\n/Users/Giwrgakis/opt/anaconda3/lib/python37.zip\n/Users/Giwrgakis/opt/anaconda3/lib/python3.7\n/Users/Giwrgakis/opt/anaconda3/lib/python3.7/lib-dynload\n/Users/Giwrgakis/opt/anaconda3/lib/python3.7/site-packages/aeosa\n/Users/Giwrgakis/opt/anaconda3/lib/python3.7/site-packages/clifford-1.2.0-py3.7.egg\n/Users/Giwrgakis/opt/anaconda3/lib/python3.7/site-packages/sparse-0.8.0-py3.7.egg\n/Users/Giwrgakis/opt/anaconda3/lib/python3.7/site-packages/pyopencl-2019.1.2-py3.7-macosx-10.9-x86_64.egg\n/Users/Giwrgakis/opt/anaconda3/lib/python3.7/site-packages/appdirs-1.4.3-py3.7.egg\n/Users/Giwrgakis/opt/anaconda3/lib/python3.7/site-packages/pytools-2020.1-py3.7.egg\n/Users/Giwrgakis/opt/anaconda3/lib/python3.7/site-packages/IPython/extensions\n/Users/Giwrgakis/.ipython\n"
    }
   ],
   "source": [
    "import sys\n",
    "for p in sys.path:\n",
    "\tprint(p)"
   ]
  },
  {
   "cell_type": "code",
   "execution_count": 3,
   "metadata": {},
   "outputs": [
    {
     "output_type": "stream",
     "name": "stdout",
     "text": "The version_information extension is already loaded. To reload it, use:\n  %reload_ext version_information\n"
    },
    {
     "output_type": "execute_result",
     "data": {
      "text/plain": "Software versions\nPython 3.7.6 64bit [Clang 4.0.1 (tags/RELEASE_401/final)]\nIPython 7.13.0\nOS Darwin 19.4.0 x86_64 i386 64bit\nFri Apr 03 10:30:21 2020 EEST",
      "text/html": "<table><tr><th>Software</th><th>Version</th></tr><tr><td>Python</td><td>3.7.6 64bit [Clang 4.0.1 (tags/RELEASE_401/final)]</td></tr><tr><td>IPython</td><td>7.13.0</td></tr><tr><td>OS</td><td>Darwin 19.4.0 x86_64 i386 64bit</td></tr><tr><td colspan='2'>Fri Apr 03 10:30:21 2020 EEST</td></tr></table>",
      "text/latex": "\\begin{tabular}{|l|l|}\\hline\n{\\bf Software} & {\\bf Version} \\\\ \\hline\\hline\nPython & 3.7.6 64bit [Clang 4.0.1 (tags/RELEASE\\_401/final)] \\\\ \\hline\nIPython & 7.13.0 \\\\ \\hline\nOS & Darwin 19.4.0 x86\\_64 i386 64bit \\\\ \\hline\n\\hline \\multicolumn{2}{|l|}{Fri Apr 03 10:30:21 2020 EEST} \\\\ \\hline\n\\end{tabular}\n",
      "application/json": {
       "Software versions": [
        {
         "module": "Python",
         "version": "3.7.6 64bit [Clang 4.0.1 (tags/RELEASE_401/final)]"
        },
        {
         "module": "IPython",
         "version": "7.13.0"
        },
        {
         "module": "OS",
         "version": "Darwin 19.4.0 x86_64 i386 64bit"
        }
       ]
      }
     },
     "metadata": {},
     "execution_count": 3
    }
   ],
   "source": [
    "%load_ext version_information\n",
    "\n",
    "%version_information"
   ]
  }
 ],
 "metadata": {
  "kernelspec": {
   "display_name": "Python 3",
   "language": "python",
   "name": "python3"
  },
  "language_info": {
   "codemirror_mode": {
    "name": "ipython",
    "version": 3
   },
   "file_extension": ".py",
   "mimetype": "text/x-python",
   "name": "python",
   "nbconvert_exporter": "python",
   "pygments_lexer": "ipython3",
   "version": "3.7.6-final"
  }
 },
 "nbformat": 4,
 "nbformat_minor": 1
}